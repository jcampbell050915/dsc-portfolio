{
 "cells": [
  {
   "cell_type": "code",
   "execution_count": 1,
   "id": "1cfb774c-86c3-4bc8-aaff-c3cfa4c5942e",
   "metadata": {},
   "outputs": [],
   "source": [
    "# Load libraries\n",
    "import pandas as pd\n",
    "import numpy as np\n",
    "# Graphs\n",
    "import matplotlib.pyplot as plt\n",
    "import seaborn as sns\n",
    "# Test / Train\n",
    "from sklearn.model_selection import train_test_split\n",
    "# Model selection libraries\n",
    "from sklearn.pipeline import Pipeline\n",
    "from sklearn.linear_model import LinearRegression\n",
    "import statsmodels.api as sm\n",
    "# Scale\n",
    "from sklearn.preprocessing import StandardScaler\n",
    "# RMSE\n",
    "from sklearn.metrics import mean_squared_error\n",
    "from math import sqrt "
   ]
  },
  {
   "cell_type": "markdown",
   "id": "7c39f75a-e22c-4d56-989a-f5741521e53d",
   "metadata": {},
   "source": [
    "## Load Files"
   ]
  },
  {
   "cell_type": "code",
   "execution_count": 2,
   "id": "f5f007ae-4ee5-469c-b7a3-10193d86df24",
   "metadata": {},
   "outputs": [],
   "source": [
    "# Read csv files\n",
    "policies = pd.read_csv('data/motor_data14-2018.csv')"
   ]
  },
  {
   "cell_type": "code",
   "execution_count": 3,
   "id": "fa5623b5-61b9-456a-9dbd-1a081e75247e",
   "metadata": {},
   "outputs": [],
   "source": [
    "# policies.head()"
   ]
  },
  {
   "cell_type": "markdown",
   "id": "f9c88434-ae83-4a89-93f9-c666c70606ff",
   "metadata": {},
   "source": [
    "## Data Preparation"
   ]
  },
  {
   "cell_type": "markdown",
   "id": "81b330e1-5160-47f5-9519-d5c56908c4e0",
   "metadata": {},
   "source": [
    "### Convert Date Types"
   ]
  },
  {
   "cell_type": "code",
   "execution_count": 4,
   "id": "dea32253-8a6e-45bd-807d-24e577bc47e1",
   "metadata": {},
   "outputs": [],
   "source": [
    "# Convert String Dates to Dates\n",
    "policies.INSR_BEGIN = pd.to_datetime(policies.INSR_BEGIN)\n",
    "policies.INSR_END = pd.to_datetime(policies.INSR_END)"
   ]
  },
  {
   "cell_type": "code",
   "execution_count": 5,
   "id": "797812a1-4ef3-4a7e-b3ab-5ca03fa1847e",
   "metadata": {},
   "outputs": [],
   "source": [
    "# Filter to recent policies\n",
    "policies = policies[(policies.INSR_BEGIN.dt.year==2018) | (policies.INSR_END.dt.year==2018)]"
   ]
  },
  {
   "cell_type": "code",
   "execution_count": 6,
   "id": "9573c017-a366-42ae-9fa6-60a2a52b1ca1",
   "metadata": {},
   "outputs": [],
   "source": [
    "# policies.PROD_YEAR.describe()\n",
    "# policies.SEATS_NUM.describe()\n",
    "# policies.CARRYING_CAPACITY.describe()\n",
    "# policies.CCM_TON.describe()"
   ]
  },
  {
   "cell_type": "code",
   "execution_count": 7,
   "id": "f076c7de-3878-405e-a634-512ab46bc037",
   "metadata": {},
   "outputs": [],
   "source": [
    "# Convert float to int\n",
    "# Replace null with max value 2018\n",
    "policies.PROD_YEAR.fillna(2018, inplace = True)\n",
    "policies.PROD_YEAR = policies.PROD_YEAR.astype(int)\n",
    "# Replace null seats with 1\n",
    "policies.SEATS_NUM.fillna(1, inplace = True)\n",
    "policies.SEATS_NUM = policies.SEATS_NUM.astype(int)\n",
    "# Replace null carrying capacity at 0\n",
    "policies.CARRYING_CAPACITY.fillna(0, inplace = True)\n",
    "policies.CARRYING_CAPACITY = policies.CARRYING_CAPACITY.astype(int)\n",
    "# Replace null with 0\n",
    "policies.CCM_TON.fillna(0, inplace = True)\n",
    "policies.CCM_TON = policies.CCM_TON.astype(int)"
   ]
  },
  {
   "cell_type": "code",
   "execution_count": 8,
   "id": "bfc69d5d-0603-48e1-ae7e-6e830d9e8ab7",
   "metadata": {},
   "outputs": [],
   "source": [
    "# If no claim replace with 0\n",
    "policies.CLAIM_PAID.fillna(0, inplace = True)"
   ]
  },
  {
   "cell_type": "code",
   "execution_count": 9,
   "id": "d9e5b0c4-99c8-4deb-8476-bd52bda2a976",
   "metadata": {},
   "outputs": [],
   "source": [
    "# policies.EFFECTIVE_YR.unique()\n",
    "policies.EFFECTIVE_YR = pd.to_numeric(policies.EFFECTIVE_YR, errors='coerce').fillna(18).astype(int)\n",
    "# Convert effective year to year format\n",
    "policies.EFFECTIVE_YR = np.where((policies.EFFECTIVE_YR > 18), policies.EFFECTIVE_YR + 1900, policies.EFFECTIVE_YR + 2000)"
   ]
  },
  {
   "cell_type": "code",
   "execution_count": 10,
   "id": "f617da64-9ce9-40c6-8a64-2020aa4f600a",
   "metadata": {},
   "outputs": [],
   "source": [
    "policies = policies.loc[policies['INSURED_VALUE'] == 0]"
   ]
  },
  {
   "cell_type": "code",
   "execution_count": 11,
   "id": "944d5e49-a3de-4cf1-a08a-2688f2705094",
   "metadata": {},
   "outputs": [],
   "source": [
    "policies['PREMIUM'].fillna(policies['PREMIUM'].mean(), inplace=True)"
   ]
  },
  {
   "cell_type": "markdown",
   "id": "ece57f0d-eac9-4cea-bd6b-df089ead9d96",
   "metadata": {},
   "source": [
    "### Filter"
   ]
  },
  {
   "cell_type": "code",
   "execution_count": 12,
   "id": "efc681e2-9e65-4cbb-8b58-8b82ea5f52eb",
   "metadata": {},
   "outputs": [],
   "source": [
    "policies['MAKE'] = policies['MAKE'].replace(['MERCEEDES','MERCEEDICE','MERCHEDES','MERCEDICE','MERCEDIS','MERCEDES/SANY','MERCEDES AXOR','MERCEDES / 2521-48',\n",
    "                                            'MERCEDES ATEGO-KELES','MERCEDES BENZ'], 'MERCEDES')"
   ]
  },
  {
   "cell_type": "code",
   "execution_count": 13,
   "id": "81ab7392-a9dd-4181-aed0-f2e50274224d",
   "metadata": {},
   "outputs": [],
   "source": [
    "policies['MAKE'] = policies['MAKE'].replace(['NISSAN UD','NISSAN*','NISSAN SUNNY','NISAN','NISSAN X-TRIAL'], 'NISSAN')"
   ]
  },
  {
   "cell_type": "code",
   "execution_count": 14,
   "id": "62bed55f-e92e-488f-b0a1-f54faba6e112",
   "metadata": {},
   "outputs": [],
   "source": [
    "policies['MAKE'] = policies['MAKE'].replace(['BELARUS TRACTOR','BELL TRACTOR','TRACTOR TRAILER','TRACTOR','CATERPILLAR TRACTOR','ENGLAND TRACTOR',\n",
    "                                            'TRACTOR BELARUS', 'TRACTOR 4WD', 'TRACTOR4WD', 'ARTICULATED TRACTOR', 'BEL TRACTOR','VERSATILE TRACTOR',\n",
    "                                            'YTO TRACTOR', 'URSUS TRACTOR URSUS TRACTOR', 'KAT TRACTOR','VALTRA TRACTOR','XERION TRACTOR','XERION TARCTOR',\n",
    "                                            'TRAILER','HIGH BED TRAILER','SUGERCANE TRAILER','330-30 TRAILER','BEBEN SEMI TRAILER','CHINA SPECIAL SEMI TRAILER',\n",
    "                                            '3-AXEL DRAWBAR CARGO TRAILER','3-AXLE DRAWBAR CARGO TRAILER','KAT TRAILER','LOW BED SEMITRAILER\\n','SAL DA29 YARI TRAILER',\n",
    "                                            'URSUS TRACTOR','TALER','TRAKKER'], 'TRACTOR/TRAILER')"
   ]
  },
  {
   "cell_type": "code",
   "execution_count": 15,
   "id": "41ee32c2-5bda-4113-b7ac-c874460fec0e",
   "metadata": {},
   "outputs": [],
   "source": [
    "policies['MAKE'] = policies['MAKE'].replace(['TOYOTA*','TOYOTA LAND CRUISER','TOYOTA PICK-UP','TOYOTA L/CRUISER',' TOYOTA RAV4','TOYOTA HILUX',\n",
    "                                            'TOYOTA L/C PRADO','TOYOTA P/UP', 'TOYOTA RAV4','TOYOTA AUTOMOBILE','TOYOTA  AUTOMOBILE','TOYOTA YARIS',\n",
    "                                            'TOYOTA COROLLA','TOYOTA REVO HILUX','TOYOTA VITZ','TOYTA','TOYOTA HIACE','TOYOTA RAVA4','TOYATA',\n",
    "                                            ' TOYOTA VITZ','TOYOTA 4 RUNNER','TOYOTAA','TOYOTA  YARIS','TOYOTA PLATZ','TOYOTA  COROLA',' TOYOTA MINIBUS',\n",
    "                                            'TOYOTA MERCHEDIS','T0Y0TA','T0Y0TA'], 'TOYOTA')"
   ]
  },
  {
   "cell_type": "code",
   "execution_count": 16,
   "id": "895d190e-e431-4d5d-bd33-fdeb54438639",
   "metadata": {},
   "outputs": [],
   "source": [
    "policies['MAKE'] = policies['MAKE'].replace(['MOTOR CYCLE (TWOCYCLE)','MOTOR CYCLE','M/CYCLE','M/CYCIE','HARLEY DAVIDSON','MOTOR CYLE'], 'MOTORCYCLE')"
   ]
  },
  {
   "cell_type": "code",
   "execution_count": 17,
   "id": "225327ad-92a1-4b1a-b406-bb52a9a0f112",
   "metadata": {},
   "outputs": [],
   "source": [
    "policies['MAKE'] = policies['MAKE'].replace(['FORD CARGO','FORD*','FORD RANGER'], 'FORD')"
   ]
  },
  {
   "cell_type": "code",
   "execution_count": 18,
   "id": "11b31aee-ec84-4ed9-855b-a0286d682abd",
   "metadata": {},
   "outputs": [],
   "source": [
    "policies['MAKE'] = policies['MAKE'].replace(['ZTLTRUCK','AIRCARGO MOBILE TRUCK','BAYBEN TRUCK HIGHBED','EURO TRUCKER','VAN TRUCK','KAMA MINI TRUCK','KAMA NINI TRUCK',\n",
    "                                            'KAMA LIGHT TRUCK','RIO JAMES TRUCK PALLET','POWER PLUS TRUCK','LOBADE TRUCK','SINO TRUCK','POWRPLUS TRUCK'], 'TRUCK')"
   ]
  },
  {
   "cell_type": "code",
   "execution_count": 19,
   "id": "2f803890-17c5-4791-957d-799f5aae4c85",
   "metadata": {},
   "outputs": [],
   "source": [
    "# Filter for car make that is popular\n",
    "policies = policies[policies.groupby(\"MAKE\")['MAKE'].transform('size') >= 100]"
   ]
  },
  {
   "cell_type": "code",
   "execution_count": 20,
   "id": "e3e3473e-f7dd-4490-aa6d-733217f7a21e",
   "metadata": {},
   "outputs": [],
   "source": [
    "# Only accept average vehicles with 6 or less seats\n",
    "policies = policies[policies.SEATS_NUM<=6]"
   ]
  },
  {
   "cell_type": "code",
   "execution_count": 21,
   "id": "1faaab49-d011-40b4-99a8-e5820e40a476",
   "metadata": {},
   "outputs": [],
   "source": [
    "# Accept trucks and semitrailers but nothing larger\n",
    "policies =policies[policies.CARRYING_CAPACITY <= 10]"
   ]
  },
  {
   "cell_type": "code",
   "execution_count": 22,
   "id": "49a99991-ae4c-49de-bebb-38b4b16050ec",
   "metadata": {},
   "outputs": [],
   "source": [
    "# Accept trucks and semitrailers but nothing larger\n",
    "policies =policies[policies.CCM_TON <= 5000]"
   ]
  },
  {
   "cell_type": "code",
   "execution_count": 23,
   "id": "763d39b4-5272-4452-a083-ba84d66da680",
   "metadata": {},
   "outputs": [],
   "source": [
    "# Remove outlier premiums\n",
    "policies = policies[policies.PREMIUM <= 5000]"
   ]
  },
  {
   "cell_type": "code",
   "execution_count": 24,
   "id": "d1909364-15b4-466d-9308-2e1425437e19",
   "metadata": {},
   "outputs": [],
   "source": [
    "policies['USAGE'] = policies['USAGE'].replace(['Taxi', 'Car Hires', 'Fare Paying Passengers'], 'Taxi+')"
   ]
  },
  {
   "cell_type": "code",
   "execution_count": 25,
   "id": "09f1c5d0-3095-4955-92e1-9a67260e110b",
   "metadata": {},
   "outputs": [],
   "source": [
    "policies['USAGE'] = policies['USAGE'].replace(['Own Goods', 'Own service', 'General Cartage'], 'Commercial')"
   ]
  },
  {
   "cell_type": "code",
   "execution_count": 26,
   "id": "d9c51069-8ae3-4bf0-af5a-d2b9fe5f6ffc",
   "metadata": {},
   "outputs": [],
   "source": [
    "values = ['Special Construction', 'Ambulance', 'Fire fighting', 'Others','Learnes','Agricultural Any Farm','Agricultural Own Farm']\n",
    "policies = policies[policies.USAGE.isin(values) == False]"
   ]
  },
  {
   "cell_type": "code",
   "execution_count": 27,
   "id": "62e33982-a6eb-4fc0-b4f6-a3852ebbda00",
   "metadata": {},
   "outputs": [],
   "source": [
    "values = ['Bus','Special construction','Tanker','Trailers and semitrailers']\n",
    "policies = policies[policies.TYPE_VEHICLE.isin(values) == False]"
   ]
  },
  {
   "cell_type": "code",
   "execution_count": 28,
   "id": "111590f1-ddc0-4258-9884-7ced8b9b9bbb",
   "metadata": {},
   "outputs": [],
   "source": [
    "# Remove outlier premiums\n",
    "policies = policies[policies.PROD_YEAR >= 2008]"
   ]
  },
  {
   "cell_type": "code",
   "execution_count": 29,
   "id": "0daa0f64-af3f-490d-9cbb-bb2a196383d0",
   "metadata": {},
   "outputs": [],
   "source": [
    "# Remove outlier premiums\n",
    "policies = policies[policies.CLAIM_PAID == 0]"
   ]
  },
  {
   "cell_type": "markdown",
   "id": "07957ada-e179-41e2-b111-1e746f387f1d",
   "metadata": {},
   "source": [
    "### Create New Dataframe"
   ]
  },
  {
   "cell_type": "code",
   "execution_count": 30,
   "id": "01288176-5c70-4d78-ada3-eb8045d5ba44",
   "metadata": {},
   "outputs": [],
   "source": [
    "policies = policies.iloc[:,np.r_[0:1,5:16]]"
   ]
  },
  {
   "cell_type": "code",
   "execution_count": 31,
   "id": "316c58df-c4e5-4d2f-be1e-ac0f83608e37",
   "metadata": {},
   "outputs": [],
   "source": [
    "policies_dum = pd.get_dummies(policies)"
   ]
  },
  {
   "cell_type": "markdown",
   "id": "c785b038-ff2f-49f9-8ec1-ea7588f54a9d",
   "metadata": {},
   "source": [
    "## Exploration"
   ]
  },
  {
   "cell_type": "code",
   "execution_count": 32,
   "id": "b5f73b29-08d9-4ce4-a99e-98acc06b331c",
   "metadata": {},
   "outputs": [
    {
     "data": {
      "text/plain": [
       "<AxesSubplot:xlabel='count', ylabel='SEX'>"
      ]
     },
     "execution_count": 32,
     "metadata": {},
     "output_type": "execute_result"
    },
    {
     "data": {
      "image/png": "[encoded data removed]",
      "text/plain": [
       "<Figure size 640x480 with 1 Axes>"
      ]
     },
     "metadata": {},
     "output_type": "display_data"
    }
   ],
   "source": [
    "sns.countplot(data=policies, y=\"SEX\")"
   ]
  },
  {
   "cell_type": "code",
   "execution_count": 33,
   "id": "872a55c7-03f4-4a65-931d-4dc0ae5b8068",
   "metadata": {},
   "outputs": [
    {
     "data": {
      "text/plain": [
       "Text(0, 0.5, 'Frequency')"
      ]
     },
     "execution_count": 33,
     "metadata": {},
     "output_type": "execute_result"
    },
    {
     "data": {
      "image/png": "[encoded data removed]",
      "text/plain": [
       "<Figure size 640x480 with 1 Axes>"
      ]
     },
     "metadata": {},
     "output_type": "display_data"
    }
   ],
   "source": [
    "sns.histplot(policies.PREMIUM,bins=20)\n",
    "plt.title('Car Insurance Premium Histogram')\n",
    "plt.xlabel('Premium')\n",
    "plt.ylabel('Frequency')"
   ]
  },
  {
   "cell_type": "code",
   "execution_count": 34,
   "id": "2c50f6c7-d895-43da-ae5f-1675c33d38cd",
   "metadata": {},
   "outputs": [
    {
     "data": {
      "text/plain": [
       "count    48057.000000\n",
       "mean       772.687905\n",
       "std       1154.120624\n",
       "min        167.405000\n",
       "25%        347.700000\n",
       "50%        347.700000\n",
       "75%        462.700000\n",
       "max       4992.620000\n",
       "Name: PREMIUM, dtype: float64"
      ]
     },
     "execution_count": 34,
     "metadata": {},
     "output_type": "execute_result"
    }
   ],
   "source": [
    "policies.PREMIUM.describe()"
   ]
  },
  {
   "cell_type": "code",
   "execution_count": 35,
   "id": "0a02c8b1-030b-4762-8842-6bfbce320b53",
   "metadata": {},
   "outputs": [
    {
     "data": {
      "text/plain": [
       "<AxesSubplot:xlabel='PROD_YEAR', ylabel='Count'>"
      ]
     },
     "execution_count": 35,
     "metadata": {},
     "output_type": "execute_result"
    },
    {
     "data": {
      "image/png": "[encoded data removed]",
      "text/plain": [
       "<Figure size 640x480 with 1 Axes>"
      ]
     },
     "metadata": {},
     "output_type": "display_data"
    }
   ],
   "source": [
    "sns.histplot(policies.PROD_YEAR,bins=5)"
   ]
  },
  {
   "cell_type": "code",
   "execution_count": 36,
   "id": "b1e35bd9-81dc-4ad7-85f1-0693df1f3d7b",
   "metadata": {},
   "outputs": [
    {
     "data": {
      "text/plain": [
       "<AxesSubplot:xlabel='SEATS_NUM', ylabel='Count'>"
      ]
     },
     "execution_count": 36,
     "metadata": {},
     "output_type": "execute_result"
    },
    {
     "data": {
      "image/png": "[encoded data removed]",
      "text/plain": [
       "<Figure size 640x480 with 1 Axes>"
      ]
     },
     "metadata": {},
     "output_type": "display_data"
    }
   ],
   "source": [
    "sns.histplot(policies.SEATS_NUM,bins=5)"
   ]
  },
  {
   "cell_type": "code",
   "execution_count": 37,
   "id": "e19d6dde-1aeb-4223-a710-1234573eb452",
   "metadata": {},
   "outputs": [],
   "source": [
    "# policies.SEATS_NUM.describe()"
   ]
  },
  {
   "cell_type": "code",
   "execution_count": 38,
   "id": "4a41c985-58b3-4f1c-a0cc-ba5e7b61016e",
   "metadata": {},
   "outputs": [
    {
     "data": {
      "text/plain": [
       "count    48057.000000\n",
       "mean         1.057682\n",
       "std          2.246291\n",
       "min          0.000000\n",
       "25%          0.000000\n",
       "50%          0.000000\n",
       "75%          0.000000\n",
       "max         10.000000\n",
       "Name: CARRYING_CAPACITY, dtype: float64"
      ]
     },
     "execution_count": 38,
     "metadata": {},
     "output_type": "execute_result"
    }
   ],
   "source": [
    "policies.CARRYING_CAPACITY.describe()"
   ]
  },
  {
   "cell_type": "code",
   "execution_count": 39,
   "id": "1e6bd4e3-22ea-47ab-8f05-f94717ecae63",
   "metadata": {},
   "outputs": [
    {
     "data": {
      "text/plain": [
       "<AxesSubplot:xlabel='CCM_TON', ylabel='Count'>"
      ]
     },
     "execution_count": 39,
     "metadata": {},
     "output_type": "execute_result"
    },
    {
     "data": {
      "image/png": "[encoded data removed]",
      "text/plain": [
       "<Figure size 640x480 with 1 Axes>"
      ]
     },
     "metadata": {},
     "output_type": "display_data"
    }
   ],
   "source": [
    "sns.histplot(policies.CCM_TON,bins=20)"
   ]
  },
  {
   "cell_type": "code",
   "execution_count": 40,
   "id": "33e7e687-f646-4b60-952b-a208d1d28536",
   "metadata": {},
   "outputs": [
    {
     "data": {
      "text/plain": [
       "count    48057.0\n",
       "mean         0.0\n",
       "std          0.0\n",
       "min          0.0\n",
       "25%          0.0\n",
       "50%          0.0\n",
       "75%          0.0\n",
       "max          0.0\n",
       "Name: CLAIM_PAID, dtype: float64"
      ]
     },
     "execution_count": 40,
     "metadata": {},
     "output_type": "execute_result"
    }
   ],
   "source": [
    "policies.CLAIM_PAID.describe()"
   ]
  },
  {
   "cell_type": "code",
   "execution_count": 41,
   "id": "d3001dc8-ed0d-4b37-995d-c9b9d5ad12ae",
   "metadata": {},
   "outputs": [
    {
     "data": {
      "text/plain": [
       "<AxesSubplot:xlabel='count', ylabel='TYPE_VEHICLE'>"
      ]
     },
     "execution_count": 41,
     "metadata": {},
     "output_type": "execute_result"
    },
    {
     "data": {
      "image/png": "[encoded data removed]",
      "text/plain": [
       "<Figure size 640x480 with 1 Axes>"
      ]
     },
     "metadata": {},
     "output_type": "display_data"
    }
   ],
   "source": [
    "sns.countplot(data=policies, y=\"TYPE_VEHICLE\")"
   ]
  },
  {
   "cell_type": "code",
   "execution_count": 42,
   "id": "27a0d9c6-d7a5-4b49-a924-e9b1cbf5196a",
   "metadata": {},
   "outputs": [
    {
     "data": {
      "text/plain": [
       "<AxesSubplot:xlabel='count', ylabel='USAGE'>"
      ]
     },
     "execution_count": 42,
     "metadata": {},
     "output_type": "execute_result"
    },
    {
     "data": {
      "image/png": "[encoded data removed]",
      "text/plain": [
       "<Figure size 640x480 with 1 Axes>"
      ]
     },
     "metadata": {},
     "output_type": "display_data"
    }
   ],
   "source": [
    "sns.countplot(data=policies, y=\"USAGE\")"
   ]
  },
  {
   "cell_type": "markdown",
   "id": "f4760bdd-7104-42ef-ba0c-2d7008ef304a",
   "metadata": {},
   "source": [
    "## Correlation"
   ]
  },
  {
   "cell_type": "code",
   "execution_count": 43,
   "id": "786a9290-7849-4efc-8c29-e64c0812b183",
   "metadata": {},
   "outputs": [
    {
     "data": {
      "text/plain": [
       "<AxesSubplot:>"
      ]
     },
     "execution_count": 43,
     "metadata": {},
     "output_type": "execute_result"
    },
    {
     "data": {
      "image/png": "[encoded data removed]",
      "text/plain": [
       "<Figure size 640x480 with 2 Axes>"
      ]
     },
     "metadata": {},
     "output_type": "display_data"
    }
   ],
   "source": [
    "matrix = policies.corr().round(2)\n",
    "sns.heatmap(matrix)"
   ]
  },
  {
   "cell_type": "code",
   "execution_count": 44,
   "id": "2c5a5a5a-bab4-48cb-819e-2303d5423071",
   "metadata": {},
   "outputs": [
    {
     "name": "stdout",
     "output_type": "stream",
     "text": [
      "OBJECT_ID           -0.159750\n",
      "PROD_YEAR           -0.147945\n",
      "SEATS_NUM           -0.089869\n",
      "CARRYING_CAPACITY    0.014368\n",
      "SEX                  0.015051\n",
      "CCM_TON              0.862414\n",
      "PREMIUM              1.000000\n",
      "INSURED_VALUE             NaN\n",
      "CLAIM_PAID                NaN\n",
      "dtype: float64\n"
     ]
    }
   ],
   "source": [
    "corr = policies.corrwith(policies.PREMIUM)\n",
    "print(corr.sort_values())"
   ]
  },
  {
   "cell_type": "code",
   "execution_count": 45,
   "id": "08097617-7545-427e-bd14-6cf80dd6711c",
   "metadata": {},
   "outputs": [
    {
     "name": "stdout",
     "output_type": "stream",
     "text": [
      "TYPE_VEHICLE_Motor-cycle       -0.714994\n",
      "USAGE_Taxi+                    -0.401673\n",
      "MAKE_BAJAJI                    -0.371402\n",
      "OBJECT_ID                      -0.159750\n",
      "USAGE_Private                  -0.150090\n",
      "PROD_YEAR                      -0.147945\n",
      "MAKE_TVS                       -0.116912\n",
      "MAKE_BOXER                     -0.108310\n",
      "SEATS_NUM                      -0.089869\n",
      "MAKE_YAMAHA                    -0.067171\n",
      "MAKE_BAJAJ                     -0.052229\n",
      "MAKE_BMW                       -0.049024\n",
      "MAKE_LIFAN                     -0.046827\n",
      "MAKE_ HERO                     -0.045727\n",
      "MAKE_FORCE                     -0.042195\n",
      "MAKE_SUZUKI                    -0.033298\n",
      "MAKE_DISCOVERY                 -0.028838\n",
      "MAKE_PLATENA                   -0.021657\n",
      "MAKE_HONDA                     -0.017773\n",
      "TYPE_VEHICLE_Automobile        -0.013706\n",
      "MAKE_VITZ                      -0.005396\n",
      "MAKE_HYUNDAI                   -0.003027\n",
      "MAKE_KIA                       -0.002938\n",
      "MAKE_VOLKS WAGON               -0.002291\n",
      "MAKE_ATOZ                      -0.001127\n",
      "MAKE_WAZ                       -0.000842\n",
      "MAKE_LADA                       0.000059\n",
      "MAKE_PEUGEOT                    0.001675\n",
      "MAKE_MAZDA                      0.001916\n",
      "MAKE_DAEWOO                     0.002029\n",
      "MAKE_DAF                        0.002671\n",
      "MAKE_FIAT                       0.002704\n",
      "MAKE_MERCEDES                   0.003359\n",
      "MAKE_TATA                       0.003619\n",
      "MAKE_GEELY                      0.005884\n",
      "MAKE_FORD                       0.006172\n",
      "TYPE_VEHICLE_Station Wagones    0.013989\n",
      "MAKE_SINO HOWO                  0.014145\n",
      "CARRYING_CAPACITY               0.014368\n",
      "SEX                             0.015051\n",
      "MAKE_MITSUBISHI                 0.024597\n",
      "MAKE_BISHOFTU                   0.027528\n",
      "MAKE_TOYOTA                     0.033314\n",
      "MAKE_NISSAN                     0.048863\n",
      "TYPE_VEHICLE_Pick-up            0.074409\n",
      "USAGE_Commercial                0.556171\n",
      "CCM_TON                         0.862414\n",
      "MAKE_ISUZU                      0.957219\n",
      "TYPE_VEHICLE_Truck              0.971154\n",
      "PREMIUM                         1.000000\n",
      "INSURED_VALUE                        NaN\n",
      "CLAIM_PAID                           NaN\n",
      "dtype: float64\n"
     ]
    }
   ],
   "source": [
    "corr = policies_dum.corrwith(policies_dum.PREMIUM)\n",
    "print(corr.sort_values())"
   ]
  },
  {
   "cell_type": "markdown",
   "id": "0555eb63-72dc-472b-8fb0-a49b19261b7c",
   "metadata": {},
   "source": [
    "## Test / Train Dataset"
   ]
  },
  {
   "cell_type": "code",
   "execution_count": 46,
   "id": "6d007c55-7d03-460f-a1e5-324f2f637ef7",
   "metadata": {},
   "outputs": [],
   "source": [
    "# features\n",
    "features = policies_dum[['SEX','CARRYING_CAPACITY','CCM_TON','TYPE_VEHICLE_Automobile','TYPE_VEHICLE_Motor-cycle','TYPE_VEHICLE_Pick-up',\n",
    "                         'TYPE_VEHICLE_Station Wagones','MAKE_BAJAJI','MAKE_NISSAN','MAKE_ISUZU','USAGE_Taxi+','SEATS_NUM']]\n",
    "# target\n",
    "target = policies_dum['PREMIUM']"
   ]
  },
  {
   "cell_type": "code",
   "execution_count": 47,
   "id": "fb8b8e85-7b52-4d1f-bf20-465a63d1500b",
   "metadata": {},
   "outputs": [],
   "source": [
    "train_X, test_X, train_y, test_y = train_test_split(\n",
    "    features, target, shuffle=True , test_size=0.3)"
   ]
  },
  {
   "cell_type": "markdown",
   "id": "ee2468f9-de94-44d8-9f20-6b4b1afca5eb",
   "metadata": {},
   "source": [
    "## Grid Search"
   ]
  },
  {
   "cell_type": "code",
   "execution_count": 48,
   "id": "b5305dab-24a3-4c18-9ad7-3482897de385",
   "metadata": {},
   "outputs": [],
   "source": [
    "# Standard Scale\n",
    "scaler = StandardScaler()"
   ]
  },
  {
   "cell_type": "code",
   "execution_count": 49,
   "id": "ff6b2c68-9ac3-4efd-b67b-c9e99e1d3e63",
   "metadata": {},
   "outputs": [],
   "source": [
    "scaled_train_X = scaler.fit_transform(train_X) \n",
    "scaled_test_X = scaler.transform(test_X)"
   ]
  },
  {
   "cell_type": "code",
   "execution_count": 50,
   "id": "09d0f3fa-3e71-4aaa-9e46-f46aac6896db",
   "metadata": {},
   "outputs": [],
   "source": [
    "# Default Linear Regression\n",
    "reg = LinearRegression()"
   ]
  },
  {
   "cell_type": "code",
   "execution_count": 51,
   "id": "15cfff14-5170-4422-ac56-525274d5ed8d",
   "metadata": {},
   "outputs": [
    {
     "data": {
      "text/plain": [
       "0.9807076213966598"
      ]
     },
     "execution_count": 51,
     "metadata": {},
     "output_type": "execute_result"
    }
   ],
   "source": [
    "reg.fit(scaled_train_X,train_y)\n",
    "reg.score(scaled_test_X,test_y)"
   ]
  },
  {
   "cell_type": "code",
   "execution_count": 52,
   "id": "aefc9f05-8395-4a4e-a71c-c49850c13119",
   "metadata": {},
   "outputs": [
    {
     "name": "stdout",
     "output_type": "stream",
     "text": [
      "162.21225890397997\n"
     ]
    }
   ],
   "source": [
    "y_pred = reg.predict(scaled_test_X)\n",
    "mse = sqrt(mean_squared_error(y_true=test_y, y_pred=y_pred))\n",
    "print(mse)"
   ]
  },
  {
   "cell_type": "code",
   "execution_count": 53,
   "id": "c4c7e500-066f-4720-bf73-13aec7a02e30",
   "metadata": {},
   "outputs": [
    {
     "name": "stdout",
     "output_type": "stream",
     "text": [
      "                                 OLS Regression Results                                \n",
      "=======================================================================================\n",
      "Dep. Variable:                PREMIUM   R-squared (uncentered):                   0.972\n",
      "Model:                            OLS   Adj. R-squared (uncentered):              0.972\n",
      "Method:                 Least Squares   F-statistic:                          9.664e+04\n",
      "Date:                Wed, 24 Apr 2024   Prob (F-statistic):                        0.00\n",
      "Time:                        19:23:25   Log-Likelihood:                     -2.3095e+05\n",
      "No. Observations:               33639   AIC:                                  4.619e+05\n",
      "Df Residuals:                   33627   BIC:                                  4.620e+05\n",
      "Df Model:                          12                                                  \n",
      "Covariance Type:            nonrobust                                                  \n",
      "================================================================================================\n",
      "                                   coef    std err          t      P>|t|      [0.025      0.975]\n",
      "------------------------------------------------------------------------------------------------\n",
      "SEX                             56.6698      3.162     17.919      0.000      50.471      62.868\n",
      "CARRYING_CAPACITY                9.4505      1.050      9.002      0.000       7.393      11.508\n",
      "CCM_TON                          0.3180      0.003    125.579      0.000       0.313       0.323\n",
      "TYPE_VEHICLE_Automobile       -165.9692     12.893    -12.873      0.000    -191.240    -140.698\n",
      "TYPE_VEHICLE_Motor-cycle        82.5048      4.450     18.541      0.000      73.783      91.227\n",
      "TYPE_VEHICLE_Pick-up          -322.1583     12.309    -26.173      0.000    -346.284    -298.032\n",
      "TYPE_VEHICLE_Station Wagones  -481.2983     20.876    -23.056      0.000    -522.215    -440.381\n",
      "MAKE_BAJAJI                    -42.0866      3.653    -11.521      0.000     -49.246     -34.927\n",
      "MAKE_NISSAN                    280.9395      9.119     30.808      0.000     263.066     298.813\n",
      "MAKE_ISUZU                    2828.2426     11.474    246.495      0.000    2805.754    2850.732\n",
      "USAGE_Taxi+                    -49.6662      6.281     -7.908      0.000     -61.976     -37.356\n",
      "SEATS_NUM                       81.5355      2.374     34.345      0.000      76.882      86.189\n",
      "==============================================================================\n",
      "Omnibus:                    19823.233   Durbin-Watson:                   1.986\n",
      "Prob(Omnibus):                  0.000   Jarque-Bera (JB):          3425069.812\n",
      "Skew:                          -1.793   Prob(JB):                         0.00\n",
      "Kurtosis:                      52.303   Cond. No.                     3.00e+04\n",
      "==============================================================================\n",
      "\n",
      "Notes:\n",
      "[1] R² is computed without centering (uncentered) since the model does not contain a constant.\n",
      "[2] Standard Errors assume that the covariance matrix of the errors is correctly specified.\n",
      "[3] The condition number is large,  3e+04. This might indicate that there are\n",
      "strong multicollinearity or other numerical problems.\n"
     ]
    }
   ],
   "source": [
    "#fit linear regression model\n",
    "model = sm.OLS(train_y, train_X).fit()\n",
    "\n",
    "#view model summary\n",
    "print(model.summary())"
   ]
  },
  {
   "cell_type": "code",
   "execution_count": 54,
   "id": "bfef4c26-fe5c-4e48-a8cf-bcdd7ca45121",
   "metadata": {},
   "outputs": [
    {
     "data": {
      "text/plain": [
       "0.9807150283059756"
      ]
     },
     "execution_count": 54,
     "metadata": {},
     "output_type": "execute_result"
    }
   ],
   "source": [
    "from sklearn.linear_model import Ridge\n",
    "# Default Linear Regression\n",
    "ridge = Ridge(alpha=1)\n",
    "ridge.fit(scaled_train_X,train_y)\n",
    "ridge.score(scaled_test_X,test_y)"
   ]
  },
  {
   "cell_type": "code",
   "execution_count": 55,
   "id": "2049a750-511a-4dc7-a5b9-420e7778eea5",
   "metadata": {},
   "outputs": [
    {
     "name": "stdout",
     "output_type": "stream",
     "text": [
      "162.18111689551117\n"
     ]
    }
   ],
   "source": [
    "y_pred = ridge.predict(scaled_test_X)\n",
    "mse = sqrt(mean_squared_error(y_true=test_y, y_pred=y_pred))\n",
    "print(mse)"
   ]
  },
  {
   "cell_type": "code",
   "execution_count": 56,
   "id": "281a0d46-87d2-4892-bad8-1d829da7b1b6",
   "metadata": {},
   "outputs": [
    {
     "data": {
      "text/plain": [
       "0.9807610612453734"
      ]
     },
     "execution_count": 56,
     "metadata": {},
     "output_type": "execute_result"
    }
   ],
   "source": [
    "from sklearn.linear_model import Lasso\n",
    "# Default Linear Regression\n",
    "lasso = Lasso(alpha=0.5)\n",
    "lasso.fit(scaled_train_X,train_y)\n",
    "lasso.score(scaled_test_X,test_y)"
   ]
  },
  {
   "cell_type": "code",
   "execution_count": 57,
   "id": "e9569292-5d6d-4b42-b7aa-bd3d9f41c1a9",
   "metadata": {},
   "outputs": [
    {
     "name": "stdout",
     "output_type": "stream",
     "text": [
      "161.98743929821052\n"
     ]
    }
   ],
   "source": [
    "y_pred = lasso.predict(scaled_test_X)\n",
    "mse = sqrt(mean_squared_error(y_true=test_y, y_pred=y_pred))\n",
    "print(mse)"
   ]
  },
  {
   "cell_type": "code",
   "execution_count": null,
   "id": "09582178-2e85-4b07-ae4d-2a993488d496",
   "metadata": {},
   "outputs": [],
   "source": []
  }
 ],
 "metadata": {
  "kernelspec": {
   "display_name": "Python 3 (ipykernel)",
   "language": "python",
   "name": "python3"
  },
  "language_info": {
   "codemirror_mode": {
    "name": "ipython",
    "version": 3
   },
   "file_extension": ".py",
   "mimetype": "text/x-python",
   "name": "python",
   "nbconvert_exporter": "python",
   "pygments_lexer": "ipython3",
   "version": "3.9.13"
  }
 },
 "nbformat": 4,
 "nbformat_minor": 5
}

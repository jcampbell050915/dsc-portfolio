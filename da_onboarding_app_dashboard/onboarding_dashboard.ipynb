{
 "cells": [
  {
   "cell_type": "code",
   "execution_count": 1,
   "id": "2cbb8200",
   "metadata": {},
   "outputs": [],
   "source": [
    "import requests\n",
    "import pandas as pd\n",
    "import io\n",
    "import re\n",
    "from datetime import datetime\n",
    "import sys"
   ]
  },
  {
   "cell_type": "code",
   "execution_count": 2,
   "id": "f43cc9d7",
   "metadata": {},
   "outputs": [],
   "source": [
    "def download(file, pattern, url):\n",
    "    loop = True\n",
    "    while loop and url != 'n':\n",
    "        print('\\nGetting data...')\n",
    "        try:\n",
    "            response = requests.request(\"GET\", url)\n",
    "            fname = response.headers['content-disposition'].split(\"filename*=\")\n",
    "            match = re.findall(pattern, str(fname))\n",
    "            if match != None:\n",
    "                with open('path'+ file, 'w', encoding=\"utf-8\") as f:\n",
    "                    f.write(response.text)\n",
    "                print('Data was updated at', datetime.now())\n",
    "                print('Continue with the next file.')\n",
    "                loop = False\n",
    "            else:\n",
    "                print('The wrong file was uploaded.')\n",
    "                url = input ('Please try again: ')\n",
    "                print('\\n')\n",
    "                break\n",
    "        except:\n",
    "            (\"\\nAn error occured with download.\")\n",
    "    if url == 'n':\n",
    "        print('\\nYou have canceled the upload process')"
   ]
  },
  {
   "cell_type": "code",
   "execution_count": 3,
   "id": "7efc06a7",
   "metadata": {},
   "outputs": [],
   "source": [
    "taskList = ['AOI', 'PW', 'REV', 'SCU', 'STO', 'TUT', 'VPN', 'YUBI']\n",
    "url = None"
   ]
  },
  {
   "cell_type": "code",
   "execution_count": null,
   "id": "227cf48a",
   "metadata": {},
   "outputs": [],
   "source": [
    "print('*'*10,'Survey Results Upload','*'*10)\n",
    "url = input ('Please enter the download URL for the survey: ')\n",
    "download('EOD Survey.csv', r'.Survey.', url)\n",
    "print('*'*43)\n",
    "print('\\n')"
   ]
  },
  {
   "cell_type": "code",
   "execution_count": null,
   "id": "1ed5e6a7-4765-4864-a924-d1438bf92332",
   "metadata": {},
   "outputs": [],
   "source": [
    "print('*'*10,'Unique Users Upload','*'*10)\n",
    "url = input ('Please enter the download URL for unique users: ')\n",
    "try:\n",
    "    response = requests.request(\"GET\", url)\n",
    "    rawData = pd.read_csv(io.StringIO(response.text))\n",
    "    rawData = rawData[~rawData['providerGroups'].str.contains('ONBGTraining')]\n",
    "    print(rawData.shape)\n",
    "    rawData.to_csv('path/file.csv', index=False)\n",
    "    print('Data was updated')\n",
    "except:\n",
    "    print('Did not work')"
   ]
  },
  {
   "cell_type": "code",
   "execution_count": null,
   "id": "2c039383-0ff0-4ba7-bdb4-0103a17c35bf",
   "metadata": {},
   "outputs": [],
   "source": [
    "print('*'*10,'Unique Users Complete Upload','*'*10)\n",
    "url = input ('Please enter the download URL for unique users: ')\n",
    "try:\n",
    "    response = requests.request(\"GET\", url)\n",
    "    rawData = pd.read_csv(io.StringIO(response.text))\n",
    "    rawData = rawData[~rawData['providerGroups'].str.contains('ONBGTraining')]\n",
    "    print(rawData.shape)\n",
    "    rawData.to_csv('path/file.csv', index=False)\n",
    "    print('Data was updated')\n",
    "except:\n",
    "    print('Did not work')"
   ]
  },
  {
   "cell_type": "code",
   "execution_count": null,
   "id": "bb71d98d-66e4-4001-8491-adf7a504c610",
   "metadata": {},
   "outputs": [],
   "source": [
    "print('*'*10,'Task Funnel Upload','*'*10)\n",
    "for task in taskList:\n",
    "    if url == 'n':\n",
    "        break\n",
    "    url = input ('Please enter the download URL for the ' + task + ' task: ')\n",
    "    download('Funnel Export -' + task + ' Task.csv', \"r'.\" + task + \".'\", url)\n",
    "    print('*'*30)\n",
    "print('*'*10, 'Complete', '*'*10)"
   ]
  }
 ],
 "metadata": {
  "kernelspec": {
   "display_name": "Python 3 (ipykernel)",
   "language": "python",
   "name": "python3"
  },
  "language_info": {
   "codemirror_mode": {
    "name": "ipython",
    "version": 3
   },
   "file_extension": ".py",
   "mimetype": "text/x-python",
   "name": "python",
   "nbconvert_exporter": "python",
   "pygments_lexer": "ipython3",
   "version": "3.9.13"
  }
 },
 "nbformat": 4,
 "nbformat_minor": 5
}

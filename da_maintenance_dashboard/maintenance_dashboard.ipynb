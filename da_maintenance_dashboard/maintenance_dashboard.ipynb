{
 "cells": [
  {
   "cell_type": "code",
   "execution_count": 3,
   "id": "2cbb8200",
   "metadata": {},
   "outputs": [],
   "source": [
    "# Download libraries\n",
    "import requests\n",
    "import pandas as pd\n",
    "import numpy as np\n",
    "import io\n",
    "from datetime import date\n",
    "from datetime import timedelta\n",
    "\n",
    "import urllib3\n",
    "urllib3.disable_warnings(urllib3.exceptions.InsecureRequestWarning)"
   ]
  },
  {
   "cell_type": "code",
   "execution_count": 4,
   "id": "6aebcda4-7ff2-44e1-889e-d2a4ac5f17d7",
   "metadata": {},
   "outputs": [],
   "source": [
    "# Maintenance reports download\n",
    "def download(file, url):\n",
    "    print('\\nGetting data...')\n",
    "    try:\n",
    "        response = requests.request(\"GET\", url)\n",
    "        with open('path'+ file, 'w', encoding=\"utf-8\") as f:\n",
    "            f.write(response.text)\n",
    "        print('Data was updated at', datetime.now())\n",
    "        print('Continue with the next file.')\n",
    "    except:\n",
    "        (\"\\nAn error occured with download.\")"
   ]
  },
  {
   "cell_type": "code",
   "execution_count": null,
   "id": "c6ae8d2d-4302-4272-99cc-9f328908ff8c",
   "metadata": {
    "tags": []
   },
   "outputs": [],
   "source": [
    "print('*'*10,'Item Maintenance Report','*'*10)\n",
    "url = input ('Please enter the download URL for the maintenance report: ')\n",
    "try:\n",
    "    response = requests.request(\"GET\", url)\n",
    "    rawData = pd.read_csv(io.StringIO(response.text))\n",
    "\n",
    "    \n",
    "    #Get date\n",
    "    daysago = date.today() - timedelta(days = 14)\n",
    "    \n",
    "    #Filter non-ShoutOut\n",
    "    final_df = rawData[(~rawData['Item Type'].str.contains('ShoutOut')) & \n",
    "                        (rawData['Users Interacted'] == 0) &\n",
    "                        ((rawData['Users Exposed'] >= 15) | (rawData['Users Exposed] == 0)) &\n",
    "                        (rawData['Item Last Change Date'] <= daysago.strftime(\"%Y-%m-%d\")) &\n",
    "                        (~rawData['System Name'].isin(['System1', 'System2'])) &\n",
    "                        (~rawData['Item Name'].str.contains('Asterisk')) &\n",
    "                        (~rawData['Item Name'].str.contains('Highlight'))]\n",
    "    \n",
    "    final_df.to_csv('path/file.csv', index=False)\n",
    "except:\n",
    "    (\"\\nAn error occured with download.\")\n",
    "print('*'*20, 'Complete', '*'*20)"
   ]
  },
  {
   "cell_type": "code",
   "execution_count": null,
   "id": "227cf48a",
   "metadata": {},
   "outputs": [],
   "source": [
    "print('*'*10,'Menu Searches','*'*10)\n",
    "url = input ('Please enter the download URL for the menu searches report: ')\n",
    "try:\n",
    "    response = requests.request(\"GET\", url)\n",
    "    rawData = pd.read_csv(io.StringIO(response.text))\n",
    "    \n",
    "    final_df = rawData[(rawData['Menu Searches'] >= 5) &\n",
    "            (rawData['Menu Searches Resulted in Action']/rawData['Menu Searches'] <= .4) &\n",
    "            (rawData['Search Term'] != 'term')]\n",
    "    \n",
    "    final_df.to_csv('path/file.csv', index=False)\n",
    "    \n",
    "except:\n",
    "    (\"\\nAn error occured with download.\")\n",
    "print('*'*20, 'Complete', '*'*20)"
   ]
  },
  {
   "cell_type": "code",
   "execution_count": null,
   "id": "e84e8f53-6c9b-45e2-bd54-1190b052e625",
   "metadata": {},
   "outputs": [],
   "source": [
    "print('*'*10,'Error Report','*'*10)\n",
    "url = input ('Please enter the download URL for the errors report: ')\n",
    "\n",
    "try:\n",
    "    response = requests.request(\"GET\", url)\n",
    "    rawData = pd.read_csv(io.StringIO(response.text))\n",
    "    \n",
    "    # Get SWTs with > 2 plays and > 30% failure rate\n",
    "    # find total plays\n",
    "    plays = rawData.groupby(['ID', 'Failed Step Index'], as_index=False)['Total Plays'].sum()\n",
    "    # Find average failures\n",
    "    per_failure = rawData.groupby(['ID', 'Failed Step Index'], as_index=False)['% Step Failures From All Plays'].max()\n",
    "    # Join\n",
    "    df = plays.join(per_failure.set_index(['ID', 'Failed Step Index']), on=['ID', 'Failed Step Index'])\n",
    "    # Filter\n",
    "    filtered_df = df[(df['Total Plays']>2) & (df['% Step Failures From All Plays']>=33)]\n",
    "    \n",
    "    \n",
    "    # Find yesterday's data\n",
    "    yesterday = date.today() - timedelta(days = 1)\n",
    "    yesterday_df = rawData[(rawData['Play Date'] == yesterday.strftime(\"%Y-%m-%d\")) &\n",
    "                           (rawData['% Step Failures From All Plays']>=20)]\n",
    "    \n",
    "    # Convert for final record filtering\n",
    "    final_df = filtered_df[filtered_df['ID'].isin(yesterday_df['ID']) & filtered_df['Failed Step Index'].isin(yesterday_df['Failed Step Index'])]\n",
    "    df_response = rawData[rawData['ID'].isin(final_df['ID'])& rawData['Failed Step Index'].isin(yesterday_df['Failed Step Index'])]\n",
    "    \n",
    "    df_response.to_csv('path/file.csv', index=False)\n",
    "            \n",
    "except:\n",
    "    (\"\\nAn error occured with download.\")\n",
    "print('*'*20, 'Complete', '*'*20)"
   ]
  }
 ],
 "metadata": {
  "kernelspec": {
   "display_name": "Python 3 (ipykernel)",
   "language": "python",
   "name": "python3"
  },
  "language_info": {
   "codemirror_mode": {
    "name": "ipython",
    "version": 3
   },
   "file_extension": ".py",
   "mimetype": "text/x-python",
   "name": "python",
   "nbconvert_exporter": "python",
   "pygments_lexer": "ipython3",
   "version": "3.9.13"
  }
 },
 "nbformat": 4,
 "nbformat_minor": 5
}

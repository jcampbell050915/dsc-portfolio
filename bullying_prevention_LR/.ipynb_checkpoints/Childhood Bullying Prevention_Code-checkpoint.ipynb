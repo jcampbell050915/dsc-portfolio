{
 "cells": [
  {
   "cell_type": "markdown",
   "id": "158bf8e8-2d1c-492f-acb6-b547b1c97d7c",
   "metadata": {},
   "source": [
    "# Childhood Health - Bullying"
   ]
  },
  {
   "cell_type": "markdown",
   "id": "f7cacaee-60db-4b40-8aac-45cd947713d4",
   "metadata": {},
   "source": [
    "School aged children can be subjected to physical, psychological, social, or educational bullying by their peers. The CDC defines bullying as \"unwanted aggressive behavior(s) that is repeated multiple times or is highly likely to be repeated\" that may inflict harm or distress on the victim [(CDC, Fast Fact: Preventing Bullying 2021)](https://www.cdc.gov/violenceprevention/youthviolence/bullyingresearch/fastfact.html). Although schools have a legal obligation to respond to bullying through federal laws, this is only a reactional approach to the existing bullying. The analysis performed will be focused on classifying the risk associated with children becoming a bully or already showing bully like behaviors. This would allow bullying prevention programs to be put in place at educational institutions to protect the students. The dataset procured for this analysis was sponsored by the Maternal Child Health Bureau of the Health Resources and Services Administration through the [National Survey of Children's Health (NSCH)](https://www.census.gov/programs-surveys/nsch/data/datasets.html). The survey contained 461 features collected to examine the physical and emotional health of children including bullying frequency.\n",
    "\n",
    "The bully feature categorizes the frequency that the child has bullied others, picked on them, or excluded them in 5 levels including:\n",
    "* 1 - Never (in the past 12 months)\n",
    "* 2 - 1-2 times (in the past 12 months)\n",
    "* 3 - 1-2 times per month\n",
    "* 4 - 1-2 times per week\n",
    "* 5 - Almost every day\n",
    "\n",
    "The model that will be built for this analysis will categorize the risk level of bullying. From this, educational institutions can provide intervention for children that are most likely to engage in frequent bullying of their peers. With the appropriate supports in place, this system could prevent bullying and also support the children who may have become bullies due to circumstances found to have a correlation to the bullying behavior. This type of support system could also indirectly affect future behaviors from these children in other matters."
   ]
  },
  {
   "cell_type": "markdown",
   "id": "77634b95-ee84-468c-8592-c964f8c8b70c",
   "metadata": {},
   "source": [
    "# Milestone 1"
   ]
  },
  {
   "cell_type": "markdown",
   "id": "66792382-c995-4732-b7b3-5686d48146f3",
   "metadata": {},
   "source": [
    "## Data Import"
   ]
  },
  {
   "cell_type": "code",
   "execution_count": 1,
   "id": "47f00dd1-70cb-4f9b-a068-984b24ba01e8",
   "metadata": {},
   "outputs": [],
   "source": [
    "# Load libraries\n",
    "import pandas as pd\n",
    "import numpy as np\n",
    "\n",
    "# Graph libraries\n",
    "import matplotlib as mpl\n",
    "import matplotlib.pyplot as plt\n",
    "import seaborn as sns\n",
    "\n",
    "from scipy import stats\n",
    "\n",
    "from sklearn.model_selection import train_test_split"
   ]
  },
  {
   "cell_type": "code",
   "execution_count": 2,
   "id": "ea01cbd7-d325-4e7b-9f0e-944be4f378ef",
   "metadata": {},
   "outputs": [],
   "source": [
    "# Read child health survey data\n",
    "child_health = pd.read_sas('nsch_2021_topical.sas7bdat')"
   ]
  },
  {
   "cell_type": "code",
   "execution_count": 213,
   "id": "2f15391e-047b-4ae6-8a5e-3df66ca97faa",
   "metadata": {},
   "outputs": [
    {
     "data": {
      "text/html": [
       "<div>\n",
       "<style scoped>\n",
       "    .dataframe tbody tr th:only-of-type {\n",
       "        vertical-align: middle;\n",
       "    }\n",
       "\n",
       "    .dataframe tbody tr th {\n",
       "        vertical-align: top;\n",
       "    }\n",
       "\n",
       "    .dataframe thead th {\n",
       "        text-align: right;\n",
       "    }\n",
       "</style>\n",
       "<table border=\"1\" class=\"dataframe\">\n",
       "  <thead>\n",
       "    <tr style=\"text-align: right;\">\n",
       "      <th></th>\n",
       "      <th>FIPSST</th>\n",
       "      <th>STRATUM</th>\n",
       "      <th>HHID</th>\n",
       "      <th>FORMTYPE</th>\n",
       "      <th>TOTKIDS_R</th>\n",
       "      <th>TENURE</th>\n",
       "      <th>HHLANGUAGE</th>\n",
       "      <th>SC_AGE_YEARS</th>\n",
       "      <th>SC_SEX</th>\n",
       "      <th>K2Q35A_1_YEARS</th>\n",
       "      <th>...</th>\n",
       "      <th>HHCOUNT_IF</th>\n",
       "      <th>HIGRADE</th>\n",
       "      <th>HIGRADE_TVIS</th>\n",
       "      <th>FPL_I1</th>\n",
       "      <th>FPL_I2</th>\n",
       "      <th>FPL_I3</th>\n",
       "      <th>FPL_I4</th>\n",
       "      <th>FPL_I5</th>\n",
       "      <th>FPL_I6</th>\n",
       "      <th>FWC</th>\n",
       "    </tr>\n",
       "  </thead>\n",
       "  <tbody>\n",
       "    <tr>\n",
       "      <th>0</th>\n",
       "      <td>b'48'</td>\n",
       "      <td>b'1'</td>\n",
       "      <td>b'21000002'</td>\n",
       "      <td>b'T1'</td>\n",
       "      <td>2.0</td>\n",
       "      <td>1.0</td>\n",
       "      <td>3.0</td>\n",
       "      <td>2.0</td>\n",
       "      <td>1.0</td>\n",
       "      <td>NaN</td>\n",
       "      <td>...</td>\n",
       "      <td>0.0</td>\n",
       "      <td>3.0</td>\n",
       "      <td>4.0</td>\n",
       "      <td>400.0</td>\n",
       "      <td>400.0</td>\n",
       "      <td>400.0</td>\n",
       "      <td>400.0</td>\n",
       "      <td>400.0</td>\n",
       "      <td>400.0</td>\n",
       "      <td>2068.528102</td>\n",
       "    </tr>\n",
       "    <tr>\n",
       "      <th>1</th>\n",
       "      <td>b'02'</td>\n",
       "      <td>b'1'</td>\n",
       "      <td>b'21000009'</td>\n",
       "      <td>b'T3'</td>\n",
       "      <td>1.0</td>\n",
       "      <td>2.0</td>\n",
       "      <td>1.0</td>\n",
       "      <td>12.0</td>\n",
       "      <td>1.0</td>\n",
       "      <td>NaN</td>\n",
       "      <td>...</td>\n",
       "      <td>0.0</td>\n",
       "      <td>2.0</td>\n",
       "      <td>2.0</td>\n",
       "      <td>139.0</td>\n",
       "      <td>139.0</td>\n",
       "      <td>139.0</td>\n",
       "      <td>139.0</td>\n",
       "      <td>139.0</td>\n",
       "      <td>139.0</td>\n",
       "      <td>172.907963</td>\n",
       "    </tr>\n",
       "    <tr>\n",
       "      <th>2</th>\n",
       "      <td>b'40'</td>\n",
       "      <td>b'1'</td>\n",
       "      <td>b'21000017'</td>\n",
       "      <td>b'T2'</td>\n",
       "      <td>2.0</td>\n",
       "      <td>1.0</td>\n",
       "      <td>1.0</td>\n",
       "      <td>8.0</td>\n",
       "      <td>1.0</td>\n",
       "      <td>NaN</td>\n",
       "      <td>...</td>\n",
       "      <td>0.0</td>\n",
       "      <td>3.0</td>\n",
       "      <td>4.0</td>\n",
       "      <td>395.0</td>\n",
       "      <td>395.0</td>\n",
       "      <td>395.0</td>\n",
       "      <td>395.0</td>\n",
       "      <td>395.0</td>\n",
       "      <td>395.0</td>\n",
       "      <td>2169.272128</td>\n",
       "    </tr>\n",
       "    <tr>\n",
       "      <th>3</th>\n",
       "      <td>b'26'</td>\n",
       "      <td>b'1'</td>\n",
       "      <td>b'21000030'</td>\n",
       "      <td>b'T1'</td>\n",
       "      <td>1.0</td>\n",
       "      <td>1.0</td>\n",
       "      <td>1.0</td>\n",
       "      <td>2.0</td>\n",
       "      <td>2.0</td>\n",
       "      <td>NaN</td>\n",
       "      <td>...</td>\n",
       "      <td>0.0</td>\n",
       "      <td>2.0</td>\n",
       "      <td>2.0</td>\n",
       "      <td>336.0</td>\n",
       "      <td>336.0</td>\n",
       "      <td>336.0</td>\n",
       "      <td>336.0</td>\n",
       "      <td>336.0</td>\n",
       "      <td>336.0</td>\n",
       "      <td>884.196350</td>\n",
       "    </tr>\n",
       "    <tr>\n",
       "      <th>4</th>\n",
       "      <td>b'22'</td>\n",
       "      <td>b'1'</td>\n",
       "      <td>b'21000031'</td>\n",
       "      <td>b'T1'</td>\n",
       "      <td>3.0</td>\n",
       "      <td>3.0</td>\n",
       "      <td>1.0</td>\n",
       "      <td>5.0</td>\n",
       "      <td>2.0</td>\n",
       "      <td>NaN</td>\n",
       "      <td>...</td>\n",
       "      <td>0.0</td>\n",
       "      <td>2.0</td>\n",
       "      <td>2.0</td>\n",
       "      <td>96.0</td>\n",
       "      <td>96.0</td>\n",
       "      <td>96.0</td>\n",
       "      <td>96.0</td>\n",
       "      <td>96.0</td>\n",
       "      <td>96.0</td>\n",
       "      <td>812.410936</td>\n",
       "    </tr>\n",
       "  </tbody>\n",
       "</table>\n",
       "<p>5 rows × 461 columns</p>\n",
       "</div>"
      ],
      "text/plain": [
       "  FIPSST STRATUM         HHID FORMTYPE  TOTKIDS_R  TENURE  HHLANGUAGE  \\\n",
       "0  b'48'    b'1'  b'21000002'    b'T1'        2.0     1.0         3.0   \n",
       "1  b'02'    b'1'  b'21000009'    b'T3'        1.0     2.0         1.0   \n",
       "2  b'40'    b'1'  b'21000017'    b'T2'        2.0     1.0         1.0   \n",
       "3  b'26'    b'1'  b'21000030'    b'T1'        1.0     1.0         1.0   \n",
       "4  b'22'    b'1'  b'21000031'    b'T1'        3.0     3.0         1.0   \n",
       "\n",
       "   SC_AGE_YEARS  SC_SEX  K2Q35A_1_YEARS  ...  HHCOUNT_IF  HIGRADE  \\\n",
       "0           2.0     1.0             NaN  ...         0.0      3.0   \n",
       "1          12.0     1.0             NaN  ...         0.0      2.0   \n",
       "2           8.0     1.0             NaN  ...         0.0      3.0   \n",
       "3           2.0     2.0             NaN  ...         0.0      2.0   \n",
       "4           5.0     2.0             NaN  ...         0.0      2.0   \n",
       "\n",
       "   HIGRADE_TVIS  FPL_I1  FPL_I2  FPL_I3  FPL_I4  FPL_I5  FPL_I6          FWC  \n",
       "0           4.0   400.0   400.0   400.0   400.0   400.0   400.0  2068.528102  \n",
       "1           2.0   139.0   139.0   139.0   139.0   139.0   139.0   172.907963  \n",
       "2           4.0   395.0   395.0   395.0   395.0   395.0   395.0  2169.272128  \n",
       "3           2.0   336.0   336.0   336.0   336.0   336.0   336.0   884.196350  \n",
       "4           2.0    96.0    96.0    96.0    96.0    96.0    96.0   812.410936  \n",
       "\n",
       "[5 rows x 461 columns]"
      ]
     },
     "execution_count": 213,
     "metadata": {},
     "output_type": "execute_result"
    }
   ],
   "source": [
    "# Validate import\n",
    "child_health.head()"
   ]
  },
  {
   "cell_type": "code",
   "execution_count": 226,
   "id": "ab56cd59-19b5-4435-9c30-1bd5d0e15aa7",
   "metadata": {},
   "outputs": [
    {
     "data": {
      "text/plain": [
       "(50892, 461)"
      ]
     },
     "execution_count": 226,
     "metadata": {},
     "output_type": "execute_result"
    }
   ],
   "source": [
    "# Check size of data\n",
    "child_health.shape"
   ]
  },
  {
   "cell_type": "markdown",
   "id": "872d67c7-23c4-42ab-abd6-2120c135c354",
   "metadata": {},
   "source": [
    "## Graphs"
   ]
  },
  {
   "cell_type": "code",
   "execution_count": 227,
   "id": "25ec98a6-9df1-439c-ab10-6931315f4219",
   "metadata": {},
   "outputs": [],
   "source": [
    "# Set theme\n",
    "sns.set_palette(\"Set2\")"
   ]
  },
  {
   "cell_type": "markdown",
   "id": "74660fde-6841-47dc-a188-951bbd0b0159",
   "metadata": {},
   "source": [
    "### Child Race and Ethnicity"
   ]
  },
  {
   "cell_type": "code",
   "execution_count": 4,
   "id": "4a25f95d-8378-40bc-9f96-b9c8bcd58bad",
   "metadata": {},
   "outputs": [
    {
     "data": {
      "image/png": "[encoded data removed]",
      "text/plain": [
       "<Figure size 640x480 with 1 Axes>"
      ]
     },
     "metadata": {},
     "output_type": "display_data"
    }
   ],
   "source": [
    "# Determine race distribution of children who participated\n",
    "ax = sns.countplot(x=child_health[\"SC_RACE_R\"])\n",
    "\n",
    "# Set title and labels\n",
    "ax.set(xlabel='RACE', ylabel='CHILDREN',\n",
    "       title='Child Race and Ethnicity')\n",
    "\n",
    "# Specify race\n",
    "ax.set_xticklabels(['White', 'Black', 'Indian', 'Asian', 'Hawaiian', 'Multi Race'])\n",
    "\n",
    "# Format y axis\n",
    "ax.get_yaxis().set_major_formatter(\n",
    "    mpl.ticker.FuncFormatter(lambda x, p: format(int(x), ',')))\n",
    "\n",
    "# Show plot\n",
    "plt.show()"
   ]
  },
  {
   "cell_type": "markdown",
   "id": "5204d2e2-ff78-4c12-865c-98c6ba5ecbdc",
   "metadata": {},
   "source": [
    "The distribution shown above show that the majority of the children who participated in the health survey are white."
   ]
  },
  {
   "cell_type": "markdown",
   "id": "f2d6ab8d-42be-46c9-8c46-64f7a01c361c",
   "metadata": {},
   "source": [
    "### Family Count by Bullied Frequency"
   ]
  },
  {
   "cell_type": "code",
   "execution_count": 229,
   "id": "a595413d-8d4f-4014-929f-05bf9a371edf",
   "metadata": {},
   "outputs": [],
   "source": [
    "# Pivot table to show relationship between Bully and Bullied rating and the number of members inf amily\n",
    "famcount = pd.pivot_table(child_health, values='FAMCOUNT', index=['BULLIED_R'],\n",
    "                           columns=['BULLY'])"
   ]
  },
  {
   "cell_type": "code",
   "execution_count": 230,
   "id": "5ecab16c-bd09-46ea-85f1-5ee30ac055b9",
   "metadata": {},
   "outputs": [
    {
     "data": {
      "image/png": "[encoded data removed]",
      "text/plain": [
       "<Figure size 640x480 with 2 Axes>"
      ]
     },
     "metadata": {},
     "output_type": "display_data"
    }
   ],
   "source": [
    "# Show heatmap\n",
    "ax = sns.heatmap(famcount, annot=True, cmap='viridis')\n",
    "\n",
    "# Set title and labels\n",
    "ax.set(xlabel='BULLY', ylabel='BULLIED',\n",
    "       title='Average Family Size by Bullying Type')\n",
    "\n",
    "# Set labels for frequency\n",
    "ax.set_xticklabels(['Never', 'Yearly', 'Monthly', 'Weekly', 'Daily'])\n",
    "ax.set_yticklabels(['Never', 'Yearly', 'Monthly', 'Weekly', 'Daily'])\n",
    "\n",
    "# Invert y axis to go from least to greatest\n",
    "ax.invert_yaxis()\n",
    "\n",
    "# Show plot\n",
    "plt.show()"
   ]
  },
  {
   "cell_type": "markdown",
   "id": "82820ea7-309e-4b75-9acb-2d90c83dcf73",
   "metadata": {},
   "source": [
    "Children who bullies others on a daily basis but are not bullied have the largest family size."
   ]
  },
  {
   "cell_type": "markdown",
   "id": "247557bd-453a-4041-89cd-13be71a44e51",
   "metadata": {},
   "source": [
    "### Child Age by Gender"
   ]
  },
  {
   "cell_type": "code",
   "execution_count": 346,
   "id": "aa895937-83f4-4c20-83ee-b01460c95fe0",
   "metadata": {},
   "outputs": [
    {
     "data": {
      "image/png": "[encoded data removed]",
      "text/plain": [
       "<Figure size 640x480 with 1 Axes>"
      ]
     },
     "metadata": {},
     "output_type": "display_data"
    }
   ],
   "source": [
    "# Plot count of children by age with gender separation\n",
    "ax = sns.histplot(data=child_health, x='SC_AGE_YEARS', hue='SC_SEX', discrete=True, multiple=\"stack\", palette=['lightblue', 'pink'])\n",
    "\n",
    "# Set title and labels\n",
    "ax.set(xlabel='AGE',\n",
    "       title='Child Age by Gender')\n",
    "\n",
    "# Configure legend to show gender values\n",
    "plt.legend([\"Male\", \"Female\"], title=\"Gender\") \n",
    "\n",
    "# Set x labels to increment by 2 from 0-18\n",
    "plt.xticks(np.arange(0, 18, 2, dtype=int))\n",
    "\n",
    "# Show plot\n",
    "plt.show()"
   ]
  },
  {
   "cell_type": "markdown",
   "id": "3f5cd4b2-7a4d-48ac-929b-a98ffe120350",
   "metadata": {},
   "source": [
    "Gender distribution for each year of age appears to be relatively equal."
   ]
  },
  {
   "cell_type": "markdown",
   "id": "c83408aa-1e0e-45b8-b8f7-b21dca9c463e",
   "metadata": {},
   "source": [
    "### Average Bullying Rating by Age"
   ]
  },
  {
   "cell_type": "code",
   "execution_count": 246,
   "id": "210a154e-0c6b-437b-a405-db1a887a8380",
   "metadata": {},
   "outputs": [],
   "source": [
    "# Calculate average bully and bullied scores by age\n",
    "age_bully = child_health.groupby('SC_AGE_YEARS')['BULLY'].mean().reset_index()\n",
    "age_bullied = child_health.groupby('SC_AGE_YEARS')['BULLIED_R'].mean().reset_index()"
   ]
  },
  {
   "cell_type": "code",
   "execution_count": 347,
   "id": "33214040-c29f-42fa-bbf9-35ce4b04400d",
   "metadata": {},
   "outputs": [
    {
     "data": {
      "image/png": "[encoded data removed]",
      "text/plain": [
       "<Figure size 640x480 with 1 Axes>"
      ]
     },
     "metadata": {},
     "output_type": "display_data"
    }
   ],
   "source": [
    "# Create line plot for bully and bullied to compare average by age\n",
    "# Set title and labels\n",
    "sns.lineplot(data=age_bullied, x='SC_AGE_YEARS', y='BULLIED_R', label='Bullied').set(\n",
    "        title='Average Bullying Rating by Age', \n",
    "        xlabel='AGE', \n",
    "        ylabel='RATING (1-5 Scale)')\n",
    "sns.lineplot(data=age_bully, x='SC_AGE_YEARS', y='BULLY', label='Bully')\n",
    "\n",
    "# Show grid lines\n",
    "plt.grid(axis='both', color='0.95', linestyle='--')\n",
    "\n",
    "# show legend\n",
    "plt.legend()\n",
    "\n",
    "# Show plot\n",
    "plt.show()"
   ]
  },
  {
   "cell_type": "markdown",
   "id": "a9ac1e23-a7b8-4c37-bcad-f11be8c41411",
   "metadata": {},
   "source": [
    "There were no records of bully or bullied from ages 0-5. The highest bully and bullied scores were shown to be from ages 6-12."
   ]
  },
  {
   "cell_type": "markdown",
   "id": "3fa731a1-e0bf-4679-8a11-d2a917855b93",
   "metadata": {},
   "source": [
    "### Hard to Cover Basics(Food or Housing) by Bullying Type"
   ]
  },
  {
   "cell_type": "code",
   "execution_count": 349,
   "id": "67d5c5ed-fb4b-44d3-8134-9f9217862743",
   "metadata": {},
   "outputs": [],
   "source": [
    "# Average Bully Rating by Likelihood of Hard to Cover Basics\n",
    "low_income = child_health.groupby('ACE1')[['BULLY','BULLIED_R']].mean().reset_index()"
   ]
  },
  {
   "cell_type": "code",
   "execution_count": 350,
   "id": "e12b5dda-c3d2-4eac-8680-23fbfa30fe1a",
   "metadata": {},
   "outputs": [],
   "source": [
    "# Melt table to get average rating for Bully and Bullied compared to covering basic needs\n",
    "low_income = pd.melt(low_income, id_vars='ACE1', value_vars=['BULLY','BULLIED_R'],\n",
    "                var_name='bully_type', value_name='avg_rating')"
   ]
  },
  {
   "cell_type": "code",
   "execution_count": 353,
   "id": "1d8c703d-811c-40e8-aec0-9e4d3450e70a",
   "metadata": {},
   "outputs": [
    {
     "data": {
      "image/png": "[encoded data removed]",
      "text/plain": [
       "<Figure size 640x480 with 1 Axes>"
      ]
     },
     "metadata": {},
     "output_type": "display_data"
    }
   ],
   "source": [
    "# Create bar plot for each bullying type for each needs not met answer\n",
    "ax = sns.barplot(data=low_income, x='ACE1', y='avg_rating', hue=\"bully_type\", hue_order=['BULLIED_R','BULLY'])\n",
    "\n",
    "# Set title and labels\n",
    "ax.set(xlabel='HARD TO COVER BASICS (FOOD/HOUSING)', ylabel='RATING (1-5)',\n",
    "       title='Hard to Cover Basics (Food/Housing) by Bullying Type')\n",
    "\n",
    "# Set labels for frequency\n",
    "ax.set_xticklabels(['Never', 'Rarely', 'Somewhat Often', 'Very Often'])\n",
    "\n",
    "# Configure legend\n",
    "handles, labels = ax.get_legend_handles_labels()\n",
    "labels = [\"Bullied\", \"Bully\"]\n",
    "ax.legend(handles, labels, title=\"Type\")\n",
    "\n",
    "# Show plot\n",
    "plt.show()"
   ]
  },
  {
   "cell_type": "markdown",
   "id": "3539f610-6540-4c4a-b56a-403e5db1a317",
   "metadata": {},
   "source": [
    "As the probability of familes not being able to cover basics with their current income increases, it appears that the bullies and bullied increase as well."
   ]
  },
  {
   "cell_type": "markdown",
   "id": "9775f253-73bb-4171-ad1e-0a8835aa904b",
   "metadata": {},
   "source": [
    "### Graph Insights"
   ]
  },
  {
   "cell_type": "markdown",
   "id": "d2cdf581-5857-4470-8391-ba1940f3e8f9",
   "metadata": {},
   "source": [
    "Based on the initial graphs, it appears that children who are between the ages of 6-12 are the most likely to be a bully and bullied. There may also be a correlation between families with a larger family size and those who have difficulty cover ingbasic essentials with their current income. The age and gender appear to be evenly distributed, but race appears to skew heavily in children who are white."
   ]
  },
  {
   "cell_type": "markdown",
   "id": "007249c8-bc23-4877-bb06-bdf6c4e3e0fd",
   "metadata": {},
   "source": [
    "# Milestone 2"
   ]
  },
  {
   "cell_type": "markdown",
   "id": "5022b632-c0e6-4965-94a9-b8339bf77751",
   "metadata": {},
   "source": [
    "## Data Cleanup"
   ]
  },
  {
   "cell_type": "markdown",
   "id": "f857955d-dbd5-4309-9743-f2d4427cfbfc",
   "metadata": {},
   "source": [
    "### Decode objects"
   ]
  },
  {
   "cell_type": "code",
   "execution_count": 3,
   "id": "331e7c71-13d7-4772-aa38-f26cc492d6a3",
   "metadata": {},
   "outputs": [],
   "source": [
    "# Convert the first 4 columns (byte columns) into strings for processing\n",
    "child_health.iloc[:,:5] = child_health.iloc[:,:5].stack().str.decode('utf-8').unstack()"
   ]
  },
  {
   "cell_type": "markdown",
   "id": "42809b04-f374-41cd-96d0-8664b662623b",
   "metadata": {},
   "source": [
    "### Test 2-3 Features"
   ]
  },
  {
   "cell_type": "code",
   "execution_count": 4,
   "id": "1973bdf1-c651-4f9a-acf9-6d907d3560d6",
   "metadata": {},
   "outputs": [],
   "source": [
    "# Filter out test 1 records as they do not contain the 'BULLY' column that is the target value\n",
    "child_T2T3 = child_health[child_health['FORMTYPE'] != 'T1']"
   ]
  },
  {
   "cell_type": "code",
   "execution_count": 5,
   "id": "ebc64232-8688-4619-b77d-91e582455029",
   "metadata": {},
   "outputs": [
    {
     "data": {
      "text/plain": [
       "T3    16166\n",
       "T2    14007\n",
       "Name: FORMTYPE, dtype: int64"
      ]
     },
     "execution_count": 5,
     "metadata": {},
     "output_type": "execute_result"
    }
   ],
   "source": [
    "child_T2T3['FORMTYPE'].value_counts()"
   ]
  },
  {
   "cell_type": "code",
   "execution_count": 6,
   "id": "910f2a8c-404f-42ed-bf38-e181b5f2c8bc",
   "metadata": {},
   "outputs": [],
   "source": [
    "row_count = child_T2T3.shape[0]\n",
    "# Set threshold of missing values (> 99.99% of values) (Test 1 features)\n",
    "threshold = row_count * .9999"
   ]
  },
  {
   "cell_type": "code",
   "execution_count": 7,
   "id": "7490d813-b3ef-4c41-a0b2-7e751878ce4e",
   "metadata": {},
   "outputs": [
    {
     "name": "stdout",
     "output_type": "stream",
     "text": [
      "68 columns did not meet test 2-3 threshold and were dropped.\n",
      "['ASKQUESTION', 'ASKQUESTION2', 'BREASTFEDEND_DAY_S', 'BREASTFEDEND_MO_S', 'BREASTFEDEND_WK_S', 'CALMDOWN', 'CLEAREXP', 'COLOR', 'CONFIDENT', 'COORDINATION', 'COUNTTO', 'DIRECTIONS', 'DIRECTIONS2', 'DISTRACTED', 'FRSTFORMULA_DAY_S', 'FRSTFORMULA_MO_S', 'FRSTFORMULA_WK_S', 'FRSTSOLIDS_DAY_S', 'FRSTSOLIDS_MO_S', 'FRSTSOLIDS_WK_S', 'FRUIT', 'HANDS', 'HOURSLEEP05', 'HURTSAD', 'K6Q08_R', 'K6Q10', 'K6Q12', 'K6Q13A', 'K6Q13B', 'K6Q14A', 'K6Q14B', 'K6Q20', 'K6Q27', 'K6Q40', 'K6Q41R_STILL', 'K6Q42R_NEVER', 'K6Q43R_NEVER', 'K6Q60_R', 'K6Q61_R', 'K6Q70_R', 'K6Q72_R', 'K6Q73_R', 'NEWACTIVITY', 'ONEWORD', 'OUTDOORSWKDAY', 'OUTDOORSWKEND', 'PLAYWELL', 'POINT', 'RECOGABC', 'RECOGBEGIN', 'RECSHAPES', 'RHYMEWORD', 'SIMPLEINST', 'SITSTILL', 'SLEEPPOS', 'STARTSCHOOL', 'SUGARDRINK', 'TELLSTORY', 'TEMPER', 'THREEWORDS', 'TOTKIDS_R', 'TWOWORDS', 'UNDERSTAND', 'UNDERSTAND2', 'USEPENCIL', 'VEGETABLES', 'WORKTOFIN', 'WRITENAME']\n"
     ]
    }
   ],
   "source": [
    "# counter / list\n",
    "columns = []\n",
    "\n",
    "# For each column\n",
    "for x in child_T2T3.columns:\n",
    "    # Check null count\n",
    "    if(child_T2T3[x].isnull().sum() > threshold):\n",
    "        columns.append(x)\n",
    "\n",
    "# Drop Test 1 features\n",
    "child_T2T3 = child_T2T3.drop(columns, axis=1)\n",
    "        \n",
    "print(len(columns), 'columns did not meet test 2-3 threshold and were dropped.')\n",
    "print(sorted(columns))"
   ]
  },
  {
   "cell_type": "code",
   "execution_count": 8,
   "id": "4bdec319-1ea3-483a-bded-8902f952db2d",
   "metadata": {},
   "outputs": [
    {
     "data": {
      "text/plain": [
       "(30173, 393)"
      ]
     },
     "execution_count": 8,
     "metadata": {},
     "output_type": "execute_result"
    }
   ],
   "source": [
    "# Test 2 & 3 features only\n",
    "child_T2T3.shape"
   ]
  },
  {
   "cell_type": "markdown",
   "id": "26562e13-4995-4c85-a43d-486444913d48",
   "metadata": {},
   "source": [
    "### Drop low value columns"
   ]
  },
  {
   "cell_type": "code",
   "execution_count": 9,
   "id": "1fe169ae-5548-405d-aed6-2b6b942f02f8",
   "metadata": {},
   "outputs": [],
   "source": [
    "# Set threshold of missing values (> 60% of values)\n",
    "threshold = row_count * .60"
   ]
  },
  {
   "cell_type": "code",
   "execution_count": 10,
   "id": "e4adae2a-82d0-409e-9ae9-1eebedb77bbe",
   "metadata": {},
   "outputs": [
    {
     "name": "stdout",
     "output_type": "stream",
     "text": [
      "112 columns do not meet threshold.\n",
      "['A1_DEPLSTAT', 'A1_LIVEUSA', 'A2_DEPLSTAT', 'A2_LIVEUSA', 'ADDTREAT', 'ALLERGIES_CURR', 'ALLERGIES_DESC', 'APPOINTMENT', 'ARTHRITIS_CURR', 'ARTHRITIS_DESC', 'AUTISMMED', 'AUTISMTREAT', 'AVAILABLE', 'BESTFORCHILD', 'BLOOD_DESC', 'BLOOD_OTHER', 'BLOOD_SCREEN', 'CERPALS_DESC', 'CONFIRMINJURY', 'CYSTFIB_DESC', 'CYSTFIB_SCREEN', 'DISCUSSOPT', 'GENETIC_DESC', 'GENETIC_SCREEN', 'HCEXTENT', 'HEADACHE_CURR', 'HEADACHE_DESC', 'HEART_BORN', 'HEART_CURR', 'HEART_DESC', 'HEMOPHILIA', 'ISSUECOST', 'K12Q01_A', 'K12Q01_B', 'K12Q01_C', 'K12Q01_D', 'K12Q01_E', 'K12Q01_F', 'K12Q01_G', 'K2Q30B', 'K2Q30C', 'K2Q31B', 'K2Q31C', 'K2Q31D', 'K2Q32B', 'K2Q32C', 'K2Q33B', 'K2Q33C', 'K2Q34B', 'K2Q34C', 'K2Q35A_1_YEARS', 'K2Q35B', 'K2Q35C', 'K2Q35D', 'K2Q36B', 'K2Q36C', 'K2Q37B', 'K2Q37C', 'K2Q38B', 'K2Q38C', 'K2Q40B', 'K2Q40C', 'K2Q41B', 'K2Q41C', 'K2Q42B', 'K2Q42C', 'K2Q60B', 'K2Q60C', 'K2Q61B', 'K4Q26', 'K4Q28X01', 'K4Q28X02', 'K4Q28X03', 'K4Q28X04', 'K4Q28X05', 'K4Q28X_EAR', 'K4Q37', 'K4Q38', 'K5Q11', 'K5Q22', 'K5Q32', 'K9Q41', 'KEEPINSADULT', 'LIVEUSA_MO', 'LIVEUSA_YR', 'NOTELIG', 'NOTOPEN', 'PLANNEEDS_R', 'RAISECONC', 'RECEIVECOPY', 'SC_K2Q11', 'SC_K2Q12', 'SC_K2Q14', 'SC_K2Q15', 'SC_K2Q17', 'SC_K2Q18', 'SC_K2Q20', 'SC_K2Q21', 'SC_K2Q23', 'SC_RACEAIAN', 'SC_RACEASIA', 'SEEKCARE', 'SESCURRSVC', 'SESPLANMO', 'SESPLANYR', 'SICKLECELL', 'SPCSERVMO', 'THALASSEMIA', 'TRANSPORTCC', 'TREATADULT', 'TREATNEED', 'VIDEOPHONECOVID']\n"
     ]
    }
   ],
   "source": [
    "# counter / list\n",
    "columns = []\n",
    "\n",
    "# For each column\n",
    "for x in child_T2T3.columns:\n",
    "    # Check null count\n",
    "    if(child_T2T3[x].isnull().sum() > threshold):\n",
    "        columns.append(x)\n",
    "\n",
    "# Columns were not dropped because variables listed were considered optional\n",
    "print(len(columns), 'columns do not meet threshold.')\n",
    "print(sorted(columns))"
   ]
  },
  {
   "cell_type": "code",
   "execution_count": 11,
   "id": "c0e9bdab-a805-4b4b-9266-694426f3f156",
   "metadata": {},
   "outputs": [],
   "source": [
    "# drop values that do not have value for analysis\n",
    "# HHID - Unique Household ID\n",
    "# FORMTYPE - Form Type 2 or 3\n",
    "# STRATUM - Operational sampling\n",
    "low_value = ['HHID', 'FORMTYPE','STRATUM']\n",
    "child_T2T3 = child_T2T3.drop(low_value, axis=1)"
   ]
  },
  {
   "cell_type": "code",
   "execution_count": 12,
   "id": "49d9a891-ec0f-49aa-9993-abf4fbd9d615",
   "metadata": {},
   "outputs": [],
   "source": [
    "# Drop features that are dependent on another question due to signficiant correlation\n",
    "dep_features = ['A1_DEPLSTAT', 'A2_DEPLSTAT', 'ADDTREAT', 'ALLERGIES_CURR', 'ALLERGIES_DESC', 'APPOINTMENT', 'ARTHRITIS_CURR', 'ARTHRITIS_DESC', 'AUTISMMED', 'AUTISMTREAT', 'AVAILABLE', \n",
    "              'BESTFORCHILD', 'BLOOD_DESC', 'BLOOD_OTHER', 'BLOOD_SCREEN', 'CERPALS_DESC', 'CONFIRMINJURY', 'CYSTFIB_DESC', 'CYSTFIB_SCREEN', 'DECISIONS', 'DENTALSERV1', 'DENTALSERV2',\n",
    "              'DENTALSERV3', 'DENTALSERV4', 'DENTALSERV5', 'DENTALSERV6', 'DENTALSERV7', 'DISCUSSOPT', 'EMOSUPADV', 'EMOSUPFAM', 'EMOSUPHCP', 'EMOSUPMHP', 'EMOSUPOTH', 'EMOSUPPEER', 'EMOSUPSPO',\n",
    "              'EMOSUPWOR', 'EYECARE1', 'EYECARE2', 'EYECARE3', 'EYECARE4', 'GENETIC_DESC', 'GENETIC_SCREEN', 'HCCOVOTH', 'HCEXTENT', 'HEADACHE_CURR', 'HEADACHE_DESC', 'HEART_BORN', 'HEART_CURR',\n",
    "              'HEART_DESC', 'HEMOPHILIA', 'ISSUECOST', 'K11Q03R', 'K12Q01_A', 'K12Q01_B', 'K12Q01_C', 'K12Q01_D', 'K12Q01_E', 'K12Q01_F', 'K12Q01_G', 'K12Q03', 'K12Q04', 'K12Q12', 'K2Q30B', \n",
    "              'K2Q30C', 'K2Q31B', 'K2Q31C', 'K2Q31D', 'K2Q32B', 'K2Q32C', 'K2Q33B', 'K2Q33C', 'K2Q34B', 'K2Q34C', 'K2Q35A_1_YEARS', 'K2Q35B', 'K2Q35C', 'K2Q35D', 'K2Q36B', 'K2Q36C', 'K2Q37B',\n",
    "              'K2Q37C', 'K2Q38B', 'K2Q38C', 'K2Q40B', 'K2Q40C', 'K2Q41B', 'K2Q41C', 'K2Q42B', 'K2Q42C', 'K2Q60B', 'K2Q60C', 'K2Q61B', 'K3Q20', 'K3Q21B', 'K3Q22', 'K4Q02_R', 'K4Q26', 'K4Q28X_EAR', \n",
    "              'K4Q28X01', 'K4Q28X02', 'K4Q28X03', 'K4Q28X04', 'K4Q28X05', 'K4Q37', 'K4Q38', 'K5Q11', 'K5Q20_R', 'K5Q21', 'K5Q22', 'K5Q30', 'K5Q31_R', 'K5Q32', 'K5Q40', 'K5Q41', 'K5Q42', 'K5Q43',\n",
    "              'K5Q44', 'KEEPINSADULT', 'MENBEVCOV', 'NOTELIG', 'NOTOPEN', 'PLANNEEDS_R', 'RAISECONC', 'RECEIVECOPY', 'SC_K2Q11', 'SC_K2Q12', 'SC_K2Q14', 'SC_K2Q15', 'SC_K2Q18', 'SC_K2Q20',\n",
    "              'SC_K2Q21', 'SC_K2Q23', 'SEEKCARE', 'SESCURRSVC', 'SESPLANMO', 'SESPLANYR', 'SICKLECELL', 'SPCSERVMO', 'THALASSEMIA', 'TRANSPORTCC', 'TREATADULT', 'TREATNEED', 'TRICARE', 'USUALSICK',\n",
    "              'VIDEOPHONECOVID', 'VISIONEXAMREC', 'FPL_I2', 'FPL_I3', 'FPL_I4', 'FPL_I5', 'FPL_I6', 'HIGRADE_TVIS', 'BIRTH_YR', 'LIVEUSA_MO', 'LIVEUSA_YR', 'A1_LIVEUSA', 'A2_LIVEUSA', \n",
    "              'SC_AGE_LT10', 'SC_AGE_LT4', 'SC_AGE_LT6', 'SC_AGE_LT9', 'YEAR']\n",
    "child_T2T3 = child_T2T3.drop(dep_features, axis=1)"
   ]
  },
  {
   "cell_type": "markdown",
   "id": "2d92d8af-78fa-4555-9ec1-1627b5eeafb4",
   "metadata": {},
   "source": [
    "### Outliers and Data Type"
   ]
  },
  {
   "cell_type": "code",
   "execution_count": 13,
   "id": "01825d84-4143-4a0d-a0a7-1e2ed20c820d",
   "metadata": {},
   "outputs": [
    {
     "name": "stdout",
     "output_type": "stream",
     "text": [
      "24 columns may hold potential outliers.\n",
      "['A1_AGE', 'A1_GRADE_IF', 'A2_AGE', 'BIRTHWT_OZ_S', 'BIRTH_YR_F', 'FIPSST', 'FPL_I1', 'FPL_IF', 'FWC', 'HHCOUNT_IF', 'K11Q43R', 'MOMAGE', 'SC_AGE_YEARS', 'SC_HISPANIC_R_IF', 'SC_RACE_R_IF', 'SC_SEX_IF', 'TENURE_IF', 'TOTAGE_0_5', 'TOTAGE_12_17', 'TOTAGE_6_11', 'TOTCSHCN', 'TOTFEMALE', 'TOTMALE', 'TOTNONSHCN']\n"
     ]
    }
   ],
   "source": [
    "# counter / list\n",
    "pot_outliers = []\n",
    "\n",
    "# For each column\n",
    "for x in child_T2T3.columns:\n",
    "    # Check if doesn't meet use case of 1 or 2 as answers\n",
    "    # Most questions allow 1 or 2 as only answers\n",
    "    if(child_T2T3[x].min() != 1 and child_T2T3[x].min() != 2):\n",
    "        pot_outliers.append(x)\n",
    "  \n",
    "print(len(pot_outliers), 'columns may hold potential outliers.')\n",
    "print(sorted(pot_outliers))"
   ]
  },
  {
   "cell_type": "code",
   "execution_count": 14,
   "id": "9bab7cf2-68d4-4c7c-914b-5210c58b1bf9",
   "metadata": {},
   "outputs": [
    {
     "data": {
      "text/html": [
       "<div>\n",
       "<style scoped>\n",
       "    .dataframe tbody tr th:only-of-type {\n",
       "        vertical-align: middle;\n",
       "    }\n",
       "\n",
       "    .dataframe tbody tr th {\n",
       "        vertical-align: top;\n",
       "    }\n",
       "\n",
       "    .dataframe thead th {\n",
       "        text-align: right;\n",
       "    }\n",
       "</style>\n",
       "<table border=\"1\" class=\"dataframe\">\n",
       "  <thead>\n",
       "    <tr style=\"text-align: right;\">\n",
       "      <th></th>\n",
       "      <th>count</th>\n",
       "      <th>mean</th>\n",
       "      <th>std</th>\n",
       "      <th>min</th>\n",
       "      <th>25%</th>\n",
       "      <th>50%</th>\n",
       "      <th>75%</th>\n",
       "      <th>max</th>\n",
       "    </tr>\n",
       "  </thead>\n",
       "  <tbody>\n",
       "    <tr>\n",
       "      <th>SC_AGE_YEARS</th>\n",
       "      <td>30173.0</td>\n",
       "      <td>11.783648</td>\n",
       "      <td>3.543931</td>\n",
       "      <td>6.000000</td>\n",
       "      <td>9.00000</td>\n",
       "      <td>12.000000</td>\n",
       "      <td>15.000000</td>\n",
       "      <td>17.000000</td>\n",
       "    </tr>\n",
       "    <tr>\n",
       "      <th>MOMAGE</th>\n",
       "      <td>29547.0</td>\n",
       "      <td>29.816733</td>\n",
       "      <td>5.895008</td>\n",
       "      <td>18.000000</td>\n",
       "      <td>26.00000</td>\n",
       "      <td>30.000000</td>\n",
       "      <td>34.000000</td>\n",
       "      <td>45.000000</td>\n",
       "    </tr>\n",
       "    <tr>\n",
       "      <th>K11Q43R</th>\n",
       "      <td>29272.0</td>\n",
       "      <td>1.970655</td>\n",
       "      <td>2.117002</td>\n",
       "      <td>0.000000</td>\n",
       "      <td>0.00000</td>\n",
       "      <td>1.000000</td>\n",
       "      <td>3.000000</td>\n",
       "      <td>15.000000</td>\n",
       "    </tr>\n",
       "    <tr>\n",
       "      <th>A1_AGE</th>\n",
       "      <td>29231.0</td>\n",
       "      <td>44.560056</td>\n",
       "      <td>8.837214</td>\n",
       "      <td>18.000000</td>\n",
       "      <td>39.00000</td>\n",
       "      <td>44.000000</td>\n",
       "      <td>50.000000</td>\n",
       "      <td>75.000000</td>\n",
       "    </tr>\n",
       "    <tr>\n",
       "      <th>A2_AGE</th>\n",
       "      <td>23679.0</td>\n",
       "      <td>44.587102</td>\n",
       "      <td>8.650471</td>\n",
       "      <td>18.000000</td>\n",
       "      <td>39.00000</td>\n",
       "      <td>44.000000</td>\n",
       "      <td>50.000000</td>\n",
       "      <td>75.000000</td>\n",
       "    </tr>\n",
       "    <tr>\n",
       "      <th>TOTAGE_0_5</th>\n",
       "      <td>30173.0</td>\n",
       "      <td>0.239950</td>\n",
       "      <td>0.507754</td>\n",
       "      <td>0.000000</td>\n",
       "      <td>0.00000</td>\n",
       "      <td>0.000000</td>\n",
       "      <td>0.000000</td>\n",
       "      <td>3.000000</td>\n",
       "    </tr>\n",
       "    <tr>\n",
       "      <th>TOTAGE_6_11</th>\n",
       "      <td>30173.0</td>\n",
       "      <td>0.788818</td>\n",
       "      <td>0.804591</td>\n",
       "      <td>0.000000</td>\n",
       "      <td>0.00000</td>\n",
       "      <td>1.000000</td>\n",
       "      <td>1.000000</td>\n",
       "      <td>4.000000</td>\n",
       "    </tr>\n",
       "    <tr>\n",
       "      <th>TOTAGE_12_17</th>\n",
       "      <td>30173.0</td>\n",
       "      <td>0.875849</td>\n",
       "      <td>0.795656</td>\n",
       "      <td>0.000000</td>\n",
       "      <td>0.00000</td>\n",
       "      <td>1.000000</td>\n",
       "      <td>1.000000</td>\n",
       "      <td>4.000000</td>\n",
       "    </tr>\n",
       "    <tr>\n",
       "      <th>TOTCSHCN</th>\n",
       "      <td>30173.0</td>\n",
       "      <td>0.454678</td>\n",
       "      <td>0.685189</td>\n",
       "      <td>0.000000</td>\n",
       "      <td>0.00000</td>\n",
       "      <td>0.000000</td>\n",
       "      <td>1.000000</td>\n",
       "      <td>4.000000</td>\n",
       "    </tr>\n",
       "    <tr>\n",
       "      <th>TOTNONSHCN</th>\n",
       "      <td>30173.0</td>\n",
       "      <td>1.449939</td>\n",
       "      <td>1.011397</td>\n",
       "      <td>0.000000</td>\n",
       "      <td>1.00000</td>\n",
       "      <td>1.000000</td>\n",
       "      <td>2.000000</td>\n",
       "      <td>4.000000</td>\n",
       "    </tr>\n",
       "    <tr>\n",
       "      <th>TENURE_IF</th>\n",
       "      <td>30173.0</td>\n",
       "      <td>0.009280</td>\n",
       "      <td>0.095885</td>\n",
       "      <td>0.000000</td>\n",
       "      <td>0.00000</td>\n",
       "      <td>0.000000</td>\n",
       "      <td>0.000000</td>\n",
       "      <td>1.000000</td>\n",
       "    </tr>\n",
       "    <tr>\n",
       "      <th>TOTMALE</th>\n",
       "      <td>30173.0</td>\n",
       "      <td>0.987472</td>\n",
       "      <td>0.837548</td>\n",
       "      <td>0.000000</td>\n",
       "      <td>0.00000</td>\n",
       "      <td>1.000000</td>\n",
       "      <td>1.000000</td>\n",
       "      <td>4.000000</td>\n",
       "    </tr>\n",
       "    <tr>\n",
       "      <th>TOTFEMALE</th>\n",
       "      <td>30173.0</td>\n",
       "      <td>0.917144</td>\n",
       "      <td>0.814997</td>\n",
       "      <td>0.000000</td>\n",
       "      <td>0.00000</td>\n",
       "      <td>1.000000</td>\n",
       "      <td>1.000000</td>\n",
       "      <td>4.000000</td>\n",
       "    </tr>\n",
       "    <tr>\n",
       "      <th>SC_RACE_R_IF</th>\n",
       "      <td>30173.0</td>\n",
       "      <td>0.004110</td>\n",
       "      <td>0.063976</td>\n",
       "      <td>0.000000</td>\n",
       "      <td>0.00000</td>\n",
       "      <td>0.000000</td>\n",
       "      <td>0.000000</td>\n",
       "      <td>1.000000</td>\n",
       "    </tr>\n",
       "    <tr>\n",
       "      <th>SC_HISPANIC_R_IF</th>\n",
       "      <td>30173.0</td>\n",
       "      <td>0.003414</td>\n",
       "      <td>0.058328</td>\n",
       "      <td>0.000000</td>\n",
       "      <td>0.00000</td>\n",
       "      <td>0.000000</td>\n",
       "      <td>0.000000</td>\n",
       "      <td>1.000000</td>\n",
       "    </tr>\n",
       "    <tr>\n",
       "      <th>SC_SEX_IF</th>\n",
       "      <td>30173.0</td>\n",
       "      <td>0.000895</td>\n",
       "      <td>0.029901</td>\n",
       "      <td>0.000000</td>\n",
       "      <td>0.00000</td>\n",
       "      <td>0.000000</td>\n",
       "      <td>0.000000</td>\n",
       "      <td>1.000000</td>\n",
       "    </tr>\n",
       "    <tr>\n",
       "      <th>BIRTHWT_OZ_S</th>\n",
       "      <td>28946.0</td>\n",
       "      <td>116.654495</td>\n",
       "      <td>19.462529</td>\n",
       "      <td>72.000000</td>\n",
       "      <td>104.00000</td>\n",
       "      <td>118.000000</td>\n",
       "      <td>129.000000</td>\n",
       "      <td>155.000000</td>\n",
       "    </tr>\n",
       "    <tr>\n",
       "      <th>FPL_IF</th>\n",
       "      <td>30173.0</td>\n",
       "      <td>0.192225</td>\n",
       "      <td>0.394055</td>\n",
       "      <td>0.000000</td>\n",
       "      <td>0.00000</td>\n",
       "      <td>0.000000</td>\n",
       "      <td>0.000000</td>\n",
       "      <td>1.000000</td>\n",
       "    </tr>\n",
       "    <tr>\n",
       "      <th>A1_GRADE_IF</th>\n",
       "      <td>30173.0</td>\n",
       "      <td>0.034037</td>\n",
       "      <td>0.181327</td>\n",
       "      <td>0.000000</td>\n",
       "      <td>0.00000</td>\n",
       "      <td>0.000000</td>\n",
       "      <td>0.000000</td>\n",
       "      <td>1.000000</td>\n",
       "    </tr>\n",
       "    <tr>\n",
       "      <th>BIRTH_YR_F</th>\n",
       "      <td>30173.0</td>\n",
       "      <td>0.051834</td>\n",
       "      <td>0.269471</td>\n",
       "      <td>0.000000</td>\n",
       "      <td>0.00000</td>\n",
       "      <td>0.000000</td>\n",
       "      <td>0.000000</td>\n",
       "      <td>3.000000</td>\n",
       "    </tr>\n",
       "    <tr>\n",
       "      <th>HHCOUNT_IF</th>\n",
       "      <td>30173.0</td>\n",
       "      <td>0.030259</td>\n",
       "      <td>0.171302</td>\n",
       "      <td>0.000000</td>\n",
       "      <td>0.00000</td>\n",
       "      <td>0.000000</td>\n",
       "      <td>0.000000</td>\n",
       "      <td>1.000000</td>\n",
       "    </tr>\n",
       "    <tr>\n",
       "      <th>FPL_I1</th>\n",
       "      <td>30173.0</td>\n",
       "      <td>282.555000</td>\n",
       "      <td>126.572888</td>\n",
       "      <td>50.000000</td>\n",
       "      <td>171.00000</td>\n",
       "      <td>327.000000</td>\n",
       "      <td>400.000000</td>\n",
       "      <td>400.000000</td>\n",
       "    </tr>\n",
       "    <tr>\n",
       "      <th>FWC</th>\n",
       "      <td>30173.0</td>\n",
       "      <td>1638.008818</td>\n",
       "      <td>3270.211572</td>\n",
       "      <td>6.329139</td>\n",
       "      <td>284.13318</td>\n",
       "      <td>740.116697</td>\n",
       "      <td>1674.922242</td>\n",
       "      <td>55140.259905</td>\n",
       "    </tr>\n",
       "  </tbody>\n",
       "</table>\n",
       "</div>"
      ],
      "text/plain": [
       "                    count         mean          std        min        25%  \\\n",
       "SC_AGE_YEARS      30173.0    11.783648     3.543931   6.000000    9.00000   \n",
       "MOMAGE            29547.0    29.816733     5.895008  18.000000   26.00000   \n",
       "K11Q43R           29272.0     1.970655     2.117002   0.000000    0.00000   \n",
       "A1_AGE            29231.0    44.560056     8.837214  18.000000   39.00000   \n",
       "A2_AGE            23679.0    44.587102     8.650471  18.000000   39.00000   \n",
       "TOTAGE_0_5        30173.0     0.239950     0.507754   0.000000    0.00000   \n",
       "TOTAGE_6_11       30173.0     0.788818     0.804591   0.000000    0.00000   \n",
       "TOTAGE_12_17      30173.0     0.875849     0.795656   0.000000    0.00000   \n",
       "TOTCSHCN          30173.0     0.454678     0.685189   0.000000    0.00000   \n",
       "TOTNONSHCN        30173.0     1.449939     1.011397   0.000000    1.00000   \n",
       "TENURE_IF         30173.0     0.009280     0.095885   0.000000    0.00000   \n",
       "TOTMALE           30173.0     0.987472     0.837548   0.000000    0.00000   \n",
       "TOTFEMALE         30173.0     0.917144     0.814997   0.000000    0.00000   \n",
       "SC_RACE_R_IF      30173.0     0.004110     0.063976   0.000000    0.00000   \n",
       "SC_HISPANIC_R_IF  30173.0     0.003414     0.058328   0.000000    0.00000   \n",
       "SC_SEX_IF         30173.0     0.000895     0.029901   0.000000    0.00000   \n",
       "BIRTHWT_OZ_S      28946.0   116.654495    19.462529  72.000000  104.00000   \n",
       "FPL_IF            30173.0     0.192225     0.394055   0.000000    0.00000   \n",
       "A1_GRADE_IF       30173.0     0.034037     0.181327   0.000000    0.00000   \n",
       "BIRTH_YR_F        30173.0     0.051834     0.269471   0.000000    0.00000   \n",
       "HHCOUNT_IF        30173.0     0.030259     0.171302   0.000000    0.00000   \n",
       "FPL_I1            30173.0   282.555000   126.572888  50.000000  171.00000   \n",
       "FWC               30173.0  1638.008818  3270.211572   6.329139  284.13318   \n",
       "\n",
       "                         50%          75%           max  \n",
       "SC_AGE_YEARS       12.000000    15.000000     17.000000  \n",
       "MOMAGE             30.000000    34.000000     45.000000  \n",
       "K11Q43R             1.000000     3.000000     15.000000  \n",
       "A1_AGE             44.000000    50.000000     75.000000  \n",
       "A2_AGE             44.000000    50.000000     75.000000  \n",
       "TOTAGE_0_5          0.000000     0.000000      3.000000  \n",
       "TOTAGE_6_11         1.000000     1.000000      4.000000  \n",
       "TOTAGE_12_17        1.000000     1.000000      4.000000  \n",
       "TOTCSHCN            0.000000     1.000000      4.000000  \n",
       "TOTNONSHCN          1.000000     2.000000      4.000000  \n",
       "TENURE_IF           0.000000     0.000000      1.000000  \n",
       "TOTMALE             1.000000     1.000000      4.000000  \n",
       "TOTFEMALE           1.000000     1.000000      4.000000  \n",
       "SC_RACE_R_IF        0.000000     0.000000      1.000000  \n",
       "SC_HISPANIC_R_IF    0.000000     0.000000      1.000000  \n",
       "SC_SEX_IF           0.000000     0.000000      1.000000  \n",
       "BIRTHWT_OZ_S      118.000000   129.000000    155.000000  \n",
       "FPL_IF              0.000000     0.000000      1.000000  \n",
       "A1_GRADE_IF         0.000000     0.000000      1.000000  \n",
       "BIRTH_YR_F          0.000000     0.000000      3.000000  \n",
       "HHCOUNT_IF          0.000000     0.000000      1.000000  \n",
       "FPL_I1            327.000000   400.000000    400.000000  \n",
       "FWC               740.116697  1674.922242  55140.259905  "
      ]
     },
     "execution_count": 14,
     "metadata": {},
     "output_type": "execute_result"
    }
   ],
   "source": [
    "child_T2T3[pot_outliers].describe().T"
   ]
  },
  {
   "cell_type": "markdown",
   "id": "d36f5a01-a120-4ac3-b445-9971a6eef22f",
   "metadata": {},
   "source": [
    "No outliers were found based on topical variable list.\n",
    "https://www2.census.gov/programs-surveys/nsch/technical-documentation/codebook/2021-NSCH-Topical-Variable-List.pdf"
   ]
  },
  {
   "cell_type": "markdown",
   "id": "225e5497-097b-4f00-889a-cc6375c32dc5",
   "metadata": {},
   "source": [
    "### Bully (True/False Column)"
   ]
  },
  {
   "cell_type": "code",
   "execution_count": 15,
   "id": "cb690a0d-22f8-4ce4-b74d-856b1ab04692",
   "metadata": {},
   "outputs": [],
   "source": [
    "# Set default to false not a target for bully intervention\n",
    "child_T2T3 = child_T2T3.assign(BULLY_CAT=0)"
   ]
  },
  {
   "cell_type": "code",
   "execution_count": 16,
   "id": "0f7ec37d-8ff0-4ddd-a334-83e421a2327c",
   "metadata": {},
   "outputs": [],
   "source": [
    "# If child bullies once a month or greater, they are a target for intervention\n",
    "child_T2T3.loc[child_T2T3['BULLY'] >= 3, 'BULLY_CAT'] = 1"
   ]
  },
  {
   "cell_type": "code",
   "execution_count": 17,
   "id": "39ce0116-fcd7-40cb-b4db-88984bf506b0",
   "metadata": {},
   "outputs": [
    {
     "data": {
      "text/plain": [
       "0    29187\n",
       "1      986\n",
       "Name: BULLY_CAT, dtype: int64"
      ]
     },
     "execution_count": 17,
     "metadata": {},
     "output_type": "execute_result"
    }
   ],
   "source": [
    "child_T2T3['BULLY_CAT'].value_counts()"
   ]
  },
  {
   "cell_type": "code",
   "execution_count": 18,
   "id": "7492bca3-5b82-4886-8518-02e0cc07ece1",
   "metadata": {},
   "outputs": [],
   "source": [
    "# Drop original bully value\n",
    "child_health_df = child_T2T3.drop('BULLY', axis=1)"
   ]
  },
  {
   "cell_type": "code",
   "execution_count": 19,
   "id": "361feb6e-c788-4a2c-90f3-2db943dcda35",
   "metadata": {},
   "outputs": [],
   "source": [
    "columns_to_exclude = ['A1_AGE', 'A2_AGE','BIRTHWT_OZ_S','FAMCOUNT','FIPSST','FPL_I1','FWC','HHCOUNT','K11Q43R',\n",
    "                      'MOMAGE','SC_AGE_YEARS','TOTAGE_0_5','TOTAGE_12_17','TOTAGE_6_11','TOTCSHCN','TOTFEMALE',\n",
    "                      'TOTMALE','TOTNONSHCN','STRATUM', 'BULLY_CAT']"
   ]
  },
  {
   "cell_type": "code",
   "execution_count": 22,
   "id": "dd887b69-3c06-425c-a255-cb787ed1d9ec",
   "metadata": {},
   "outputs": [],
   "source": [
    "# get dummies for categorical columns\n",
    "ch_df = pd.get_dummies(child_health_df, columns=filter(lambda i: i not in columns_to_exclude,\n",
    "                 child_health_df.columns))"
   ]
  },
  {
   "cell_type": "code",
   "execution_count": 23,
   "id": "9eadc9b6-b041-4d3d-b424-6df4606201d7",
   "metadata": {},
   "outputs": [],
   "source": [
    "# Non categorical columns to keep\n",
    "int_columns = ch_df[ch_df.columns.intersection(columns_to_exclude)].columns.tolist()\n",
    "# The resulting dummies\n",
    "dummies = ch_df.iloc[:,390:].columns.tolist()\n",
    "# Column names to keep\n",
    "keep = int_columns + dummies"
   ]
  },
  {
   "cell_type": "code",
   "execution_count": 24,
   "id": "7b16f684-4ec4-4b19-88e7-ba7d44f60367",
   "metadata": {},
   "outputs": [],
   "source": [
    "# Filter original columns that dummies did not remove\n",
    "ch_df = ch_df[[c for c in ch_df.columns if c in keep]]"
   ]
  },
  {
   "cell_type": "code",
   "execution_count": 25,
   "id": "da34ff57-669a-402f-9a32-fbb051b3dc84",
   "metadata": {},
   "outputs": [],
   "source": [
    "ch_df = ch_df.fillna(0)"
   ]
  },
  {
   "cell_type": "markdown",
   "id": "159cddfd-e3a7-433b-a7a3-79cca1ffc2bb",
   "metadata": {},
   "source": [
    "### Test/Train Set"
   ]
  },
  {
   "cell_type": "code",
   "execution_count": 26,
   "id": "2cec593c-99d8-4438-b323-fbe28a1a4ab1",
   "metadata": {},
   "outputs": [],
   "source": [
    "# all columns except bully category\n",
    "features = ch_df.loc[:, ch_df.columns != 'BULLY_CAT']\n",
    "# bully category, target for intervention\n",
    "target = ch_df['BULLY_CAT']\n",
    "\n",
    "# Split the data 80/20 (train/test)\n",
    "features_train, features_test, target_train, target_test = train_test_split(\n",
    "    features, target, test_size=0.2, random_state=1)"
   ]
  },
  {
   "cell_type": "code",
   "execution_count": 27,
   "id": "ad61da52-96f0-4bfe-a98f-ac8671e282b7",
   "metadata": {},
   "outputs": [
    {
     "data": {
      "text/plain": [
       "0    23351\n",
       "1      787\n",
       "Name: BULLY_CAT, dtype: int64"
      ]
     },
     "execution_count": 27,
     "metadata": {},
     "output_type": "execute_result"
    }
   ],
   "source": [
    "target_train.value_counts()"
   ]
  },
  {
   "cell_type": "code",
   "execution_count": 28,
   "id": "ff2af2aa-0e27-4e97-b07a-681887765a0b",
   "metadata": {},
   "outputs": [
    {
     "data": {
      "text/plain": [
       "0    5836\n",
       "1     199\n",
       "Name: BULLY_CAT, dtype: int64"
      ]
     },
     "execution_count": 28,
     "metadata": {},
     "output_type": "execute_result"
    }
   ],
   "source": [
    "target_test.value_counts()"
   ]
  },
  {
   "cell_type": "markdown",
   "id": "dbf7ff3d-18e9-478a-b7df-4bdbf2c26738",
   "metadata": {},
   "source": [
    "# Milestone 3"
   ]
  },
  {
   "cell_type": "markdown",
   "id": "14b29ccd-2a96-40b0-9227-5eed9bb156d2",
   "metadata": {},
   "source": [
    "## Model Selection"
   ]
  },
  {
   "cell_type": "code",
   "execution_count": 31,
   "id": "8658ecb2-2bfd-4432-b1fa-59cf96dd73b8",
   "metadata": {},
   "outputs": [],
   "source": [
    "# Model selection libraries\n",
    "from sklearn.pipeline import Pipeline\n",
    "from imblearn.over_sampling import SMOTE\n",
    "\n",
    "# Scale\n",
    "from sklearn.preprocessing import StandardScaler\n",
    "from sklearn.preprocessing import MinMaxScaler\n",
    "from sklearn.decomposition import PCA\n",
    "\n",
    "# Model Search\n",
    "from sklearn.model_selection import GridSearchCV\n",
    "\n",
    "# Model Type\n",
    "from sklearn.neighbors import KNeighborsClassifier\n",
    "from sklearn.linear_model import LogisticRegression\n",
    "from sklearn.ensemble import RandomForestClassifier\n",
    "\n",
    "#Model Validation\n",
    "from sklearn.metrics import confusion_matrix, roc_curve, classification_report, r2_score\n",
    "\n",
    "# Warning filter\n",
    "from warnings import simplefilter\n",
    "simplefilter(action='ignore', category=FutureWarning)"
   ]
  },
  {
   "cell_type": "markdown",
   "id": "34cc608e-83fb-4327-b7a5-8adc3ecafd22",
   "metadata": {},
   "source": [
    "### Step 1: Balance Dataset"
   ]
  },
  {
   "cell_type": "markdown",
   "id": "d1dc45b1-6c97-4818-a8df-18f1100ed5c1",
   "metadata": {},
   "source": [
    "Before beginning to setup the pipeline, I used the SMOTE methodology to balance my training dataset as there is a significant difference in records of children that are not bullies instead of performing bully-like behavior."
   ]
  },
  {
   "cell_type": "code",
   "execution_count": 45,
   "id": "7136a3c6-a28b-4acb-a21d-e85259127725",
   "metadata": {},
   "outputs": [],
   "source": [
    "# Step 1: use SMOTE methodology on training set only\n",
    "sm = SMOTE(random_state=0)\n",
    "X_res, y_res = sm.fit_resample(features_train,target_train)"
   ]
  },
  {
   "cell_type": "markdown",
   "id": "71ce632a-c516-46f1-942b-036c728eb3c8",
   "metadata": {},
   "source": [
    "### Step 2: Pipeline Setup"
   ]
  },
  {
   "cell_type": "code",
   "execution_count": 46,
   "id": "c1b2d943-09ac-44bd-855d-3cf39298e39a",
   "metadata": {},
   "outputs": [],
   "source": [
    "# Creating a classifier object to put in my pipeline\n",
    "# Create a KNN classifier\n",
    "knn = KNeighborsClassifier(n_neighbors=5, n_jobs=-1)"
   ]
  },
  {
   "cell_type": "code",
   "execution_count": 47,
   "id": "76bdbad1-bba3-4d90-8fea-2d4f15239250",
   "metadata": {},
   "outputs": [],
   "source": [
    "# Create a pipeline utilzing min-max scaler\n",
    "pipe = Pipeline([('scaler', MinMaxScaler(feature_range = (0, 1))), ('classifier', knn)])"
   ]
  },
  {
   "cell_type": "markdown",
   "id": "f40addf9-c774-48ef-901e-51edf7a4d6e7",
   "metadata": {},
   "source": [
    "### Step 3: Grid Search"
   ]
  },
  {
   "cell_type": "code",
   "execution_count": 66,
   "id": "4ed642d4-00c9-41c3-953b-bebef7204793",
   "metadata": {
    "tags": []
   },
   "outputs": [],
   "source": [
    "# Check performance of several classifiers\n",
    "search_space = [{\"classifier\": [KNeighborsClassifier()],\n",
    "                 \"classifier__n_neighbors\": range(1,11),\n",
    "                 \"classifier__n_jobs\": [-1]},\n",
    "                {\"classifier\": [LogisticRegression()],\n",
    "                 \"classifier__solver\" : ['liblinear'],\n",
    "                 \"classifier__C\": [1, 10, 100, 1000],\n",
    "                 \"classifier__penalty\": ['l1', 'l2']}]"
   ]
  },
  {
   "cell_type": "code",
   "execution_count": 67,
   "id": "55b5b5cb-4a9a-486b-830d-fd65bd94d697",
   "metadata": {},
   "outputs": [],
   "source": [
    "# Create grid search with 5 folds using classifiers\n",
    "# precision and recall should be considered to account for trying to find the true positives\n",
    "classifier = GridSearchCV(pipe, search_space, cv=5, verbose=0)"
   ]
  },
  {
   "cell_type": "code",
   "execution_count": 68,
   "id": "8861f93c-3a1a-42c9-9961-3ce2f1a2946c",
   "metadata": {},
   "outputs": [
    {
     "data": {
      "text/plain": [
       "GridSearchCV(cv=5,\n",
       "             estimator=Pipeline(steps=[('scaler', MinMaxScaler()),\n",
       "                                       ('classifier',\n",
       "                                        LogisticRegression(C=1, penalty='l1',\n",
       "                                                           solver='liblinear'))]),\n",
       "             param_grid=[{'classifier': [KNeighborsClassifier()],\n",
       "                          'classifier__n_jobs': [-1],\n",
       "                          'classifier__n_neighbors': range(1, 11)},\n",
       "                         {'classifier': [LogisticRegression(C=1, penalty='l1',\n",
       "                                                            solver='liblinear')],\n",
       "                          'classifier__C': [1, 10, 100, 1000],\n",
       "                          'classifier__penalty': ['l1', 'l2'],\n",
       "                          'classifier__solver': ['liblinear']}])"
      ]
     },
     "execution_count": 68,
     "metadata": {},
     "output_type": "execute_result"
    }
   ],
   "source": [
    "# Fit data to best hyperparameters found\n",
    "classifier.fit(X_res,y_res)"
   ]
  },
  {
   "cell_type": "code",
   "execution_count": 69,
   "id": "94081e66-3b1d-4414-a1e8-a8299c5dbd3e",
   "metadata": {},
   "outputs": [
    {
     "data": {
      "text/plain": [
       "{'classifier': LogisticRegression(C=1, penalty='l1', solver='liblinear'),\n",
       " 'classifier__C': 1,\n",
       " 'classifier__penalty': 'l1',\n",
       " 'classifier__solver': 'liblinear'}"
      ]
     },
     "execution_count": 69,
     "metadata": {},
     "output_type": "execute_result"
    }
   ],
   "source": [
    "# Best model parameters\n",
    "classifier.best_params_"
   ]
  },
  {
   "cell_type": "markdown",
   "id": "bfc19092-1d07-42ba-b4c3-8e81f5e2026e",
   "metadata": {},
   "source": [
    "### Step 4: Model Evaluation"
   ]
  },
  {
   "cell_type": "markdown",
   "id": "9f2e7ad8-1c65-4bd5-ab0d-f46433b16fdc",
   "metadata": {},
   "source": [
    "Based on the grid search function, the logistic regression model provides the best parameters to train the model."
   ]
  },
  {
   "cell_type": "code",
   "execution_count": 53,
   "id": "24ec8001-3bb4-4e33-986c-d11949d85f62",
   "metadata": {},
   "outputs": [],
   "source": [
    "# Create logisitc regression model with hyperparameters found from gridsearchcv\n",
    "# explain/justify why you are selecting the model(s) and evaluation metric(s) you choose\n",
    "model = LogisticRegression(C=1, penalty='l1', solver='liblinear')"
   ]
  },
  {
   "cell_type": "code",
   "execution_count": 54,
   "id": "2fb65e5c-e9b4-477f-b81b-fec7acfc0d2b",
   "metadata": {},
   "outputs": [],
   "source": [
    "# Create a pipeline using a min-max scaler\n",
    "pipe = Pipeline([('scaler', MinMaxScaler(feature_range = (0, 1))), ('classifier', model)])"
   ]
  },
  {
   "cell_type": "code",
   "execution_count": 55,
   "id": "f0baae52-eb3f-4157-87f6-cd5f460aef2c",
   "metadata": {},
   "outputs": [
    {
     "data": {
      "text/plain": [
       "Pipeline(steps=[('scaler', MinMaxScaler()),\n",
       "                ('classifier',\n",
       "                 LogisticRegression(C=1, penalty='l1', solver='liblinear'))])"
      ]
     },
     "execution_count": 55,
     "metadata": {},
     "output_type": "execute_result"
    }
   ],
   "source": [
    "# Fit SMOTE dataset to chosen model type\n",
    "pipe.fit(X_res, y_res)"
   ]
  },
  {
   "cell_type": "code",
   "execution_count": 56,
   "id": "40e37e96-3266-4fa8-b50e-3922ac514325",
   "metadata": {},
   "outputs": [
    {
     "data": {
      "text/plain": [
       "0.968019884009942"
      ]
     },
     "execution_count": 56,
     "metadata": {},
     "output_type": "execute_result"
    }
   ],
   "source": [
    "# Accuracy Score\n",
    "pipe.score(features_test, target_test)"
   ]
  },
  {
   "cell_type": "markdown",
   "id": "f2fb70ae-de1e-4dec-bddf-c89b9ac926d9",
   "metadata": {},
   "source": [
    "### Step 5: Model Validation"
   ]
  },
  {
   "cell_type": "code",
   "execution_count": 57,
   "id": "d17766cb-f2bf-4fc9-b9cf-e86d55526ed6",
   "metadata": {},
   "outputs": [],
   "source": [
    "# Predict target based on model\n",
    "target_predicted = pipe.predict(features_test)"
   ]
  },
  {
   "cell_type": "code",
   "execution_count": 58,
   "id": "8919593d-3701-4849-9571-b51958651771",
   "metadata": {},
   "outputs": [
    {
     "data": {
      "text/plain": [
       "-0.0029198425299905573"
      ]
     },
     "execution_count": 58,
     "metadata": {},
     "output_type": "execute_result"
    }
   ],
   "source": [
    "# Print R2 score\n",
    "# Negative score found which means the model does not perform well\n",
    "r2_score(target_test, target_predicted)"
   ]
  },
  {
   "cell_type": "code",
   "execution_count": 59,
   "id": "049b8709-70df-48c5-b290-86afe3dcabf0",
   "metadata": {},
   "outputs": [
    {
     "data": {
      "image/png": "[encoded data removed]",
      "text/plain": [
       "<Figure size 640x480 with 1 Axes>"
      ]
     },
     "metadata": {},
     "output_type": "display_data"
    }
   ],
   "source": [
    "# Create confusion matrix\n",
    "matrix = confusion_matrix(target_test, target_predicted)\n",
    "    \n",
    "# Plot heatmap of confusion matrix\n",
    "sns.heatmap(matrix, annot=True, cbar=None, cmap=\"Blues\", fmt='g')\n",
    "plt.title(\"Confusion Matrix\"), plt.tight_layout()\n",
    "plt.ylabel(\"True Class\"), plt.xlabel(\"Predicted Class\")\n",
    "plt.show()"
   ]
  },
  {
   "cell_type": "code",
   "execution_count": 60,
   "id": "f3614ac9-83ab-4892-82bf-379b917fcb0c",
   "metadata": {},
   "outputs": [
    {
     "name": "stdout",
     "output_type": "stream",
     "text": [
      "              precision    recall  f1-score   support\n",
      "\n",
      "           0       0.97      0.99      0.98      5836\n",
      "           1       0.54      0.22      0.31       199\n",
      "\n",
      "    accuracy                           0.97      6035\n",
      "   macro avg       0.76      0.60      0.65      6035\n",
      "weighted avg       0.96      0.97      0.96      6035\n",
      "\n"
     ]
    }
   ],
   "source": [
    "# Classification Report\n",
    "# Recall and f1-score is particularly low; however, this model type was the best performing\n",
    "print(classification_report(target_test, target_predicted))"
   ]
  },
  {
   "cell_type": "code",
   "execution_count": 61,
   "id": "f4fe6e8f-fa0d-4491-8863-5b8dfb78d8cc",
   "metadata": {},
   "outputs": [
    {
     "data": {
      "image/png": "[encoded data removed]",
      "text/plain": [
       "<Figure size 640x480 with 1 Axes>"
      ]
     },
     "metadata": {},
     "output_type": "display_data"
    }
   ],
   "source": [
    "# Calculate probabilities\n",
    "target_probabilities = pipe.predict_proba(features_test)[:,1]\n",
    "    \n",
    "# Create true and false positive rates\n",
    "false_positive_rate, true_positive_rate, threshold = roc_curve(target_test, target_probabilities)\n",
    "    \n",
    "# Plot ROC Curve\n",
    "plt.plot(false_positive_rate, true_positive_rate)\n",
    "plt.plot([0, 1], ls=\"--\")\n",
    "plt.plot([0, 0], [1, 0] , c=\".7\"), plt.plot([1, 1] , c=\".7\")\n",
    "plt.ylabel(\"True Positive Rate\")\n",
    "plt.xlabel(\"False Positive Rate\")\n",
    "plt.show()"
   ]
  },
  {
   "cell_type": "markdown",
   "id": "db7c0992-d395-4c4d-8036-87ef474ba528",
   "metadata": {},
   "source": [
    "### Summary of Insights Gained"
   ]
  },
  {
   "cell_type": "markdown",
   "id": "b9c22f39-893a-493a-a578-32538fd11405",
   "metadata": {},
   "source": [
    "To predict the bully category (0/1) column, a model was used with the parameters from the T2/T3 test not including any features that have a high correlation to each other. The min-max scaler provides scaling that best represents the skewed categorical column. After conducting a grid search, it was found that the logistic regression model with associated hyperparameters were the best fit for the data. After validation of the model, it was found that it was still a poor model in order to determine the likelihood of a child being a bully. To improve the model additional features would need to be collected that provide more insight into the likelihood of someone becoming a bully. The health data collected about children does not appear to be a good indicator of the bullying behavior."
   ]
  }
 ],
 "metadata": {
  "kernelspec": {
   "display_name": "Python 3 (ipykernel)",
   "language": "python",
   "name": "python3"
  },
  "language_info": {
   "codemirror_mode": {
    "name": "ipython",
    "version": 3
   },
   "file_extension": ".py",
   "mimetype": "text/x-python",
   "name": "python",
   "nbconvert_exporter": "python",
   "pygments_lexer": "ipython3",
   "version": "3.9.13"
  }
 },
 "nbformat": 4,
 "nbformat_minor": 5
}

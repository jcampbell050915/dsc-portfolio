{
 "cells": [
  {
   "cell_type": "markdown",
   "id": "39982745-c469-42bc-b206-5ad4108226fd",
   "metadata": {},
   "source": [
    "# Milestone 5 - Database/Visualizing Data"
   ]
  },
  {
   "cell_type": "code",
   "execution_count": 1,
   "id": "624cd730-4e5f-4283-a868-b3708a1833f5",
   "metadata": {},
   "outputs": [],
   "source": [
    "# Load libraries\n",
    "import numpy as np\n",
    "import pandas as pd\n",
    "import matplotlib.pyplot as plt\n",
    "from scipy import stats\n",
    "from bs4 import BeautifulSoup\n",
    "import requests\n",
    "import http.client\n",
    "import urllib.error\n",
    "import json\n",
    "import seaborn as sns"
   ]
  },
  {
   "cell_type": "markdown",
   "id": "a0c48b17-e8bb-487b-968b-f3a5dd9c63ac",
   "metadata": {},
   "source": [
    "## Load Data"
   ]
  },
  {
   "cell_type": "markdown",
   "id": "bdc6d0a6-a919-4c3e-8718-328a69563748",
   "metadata": {},
   "source": [
    "The following includes code from previous milestones that were needed to have a clean dataset for this milestone."
   ]
  },
  {
   "cell_type": "markdown",
   "id": "f3a41023-6eb0-484a-81b7-5910f2987ec5",
   "metadata": {},
   "source": [
    "### CSV: Fortune 1000"
   ]
  },
  {
   "cell_type": "code",
   "execution_count": 8,
   "id": "4005fdc9-7af4-4b6c-8434-b32b2525dcad",
   "metadata": {},
   "outputs": [],
   "source": [
    "# Read in csv file from Kaggle\n",
    "# https://www.kaggle.com/datasets/ramjasmaurya/fortune-1000-companieslatest?select=fortune+1000+companies+in+dec2021.csv\n",
    "fortune_comp = pd.read_csv('fortune_1000_companies.csv',index_col=0)"
   ]
  },
  {
   "cell_type": "code",
   "execution_count": 9,
   "id": "d7fe4c7c-2eda-4e4b-9bc6-e282609abb98",
   "metadata": {},
   "outputs": [],
   "source": [
    "new_column_headers = {'Rank': 'rank',\n",
    "                      'Name': 'name',\n",
    "                      'Revenue': 'rev',\n",
    "                      'revenue(% change)': 'rev_change',\n",
    "                      'profits in millions': 'profit',\n",
    "                      'profits % change': 'profit_change',\n",
    "                      'market value': 'market',\n",
    "                      'change in rank in 1000': 'rank_change_1000',\n",
    "                      'employees': 'emp',\n",
    "                      'change in rank(500 only)':'rank_change_500',\n",
    "                      'measure_up_rank': 'rank_measure'}"
   ]
  },
  {
   "cell_type": "code",
   "execution_count": 10,
   "id": "43bc9bad-99a0-4b95-ad7b-2039f83f61f8",
   "metadata": {},
   "outputs": [],
   "source": [
    "# Rename columns based on list above and replace\n",
    "fortune_comp.rename(columns=new_column_headers, inplace=True)"
   ]
  },
  {
   "cell_type": "code",
   "execution_count": 11,
   "id": "79f789a4-d174-41de-8a34-4784d2a1d499",
   "metadata": {},
   "outputs": [],
   "source": [
    "# For each column that is an object\n",
    "for x in fortune_comp.iloc[:, np.r_[2:9,10:12]]: \n",
    "    # Check if contains - character\n",
    "    if(fortune_comp[x].str.contains('-').values.any()):\n",
    "        # Replace with 0\n",
    "        fortune_comp.loc[(fortune_comp[x] == \"-\"),x] = \"0\""
   ]
  },
  {
   "cell_type": "code",
   "execution_count": 12,
   "id": "df584ad4-69c8-4128-8336-885af1643dbd",
   "metadata": {},
   "outputs": [],
   "source": [
    "# Remove currency format from columns\n",
    "def clean_currency(x):\n",
    "    return(x.replace('$', '').replace(',', ''))"
   ]
  },
  {
   "cell_type": "code",
   "execution_count": 13,
   "id": "56250ed2-dd95-4c8f-932b-fe040bb428d2",
   "metadata": {},
   "outputs": [],
   "source": [
    "# apply clean currency function on columns with currency formatting\n",
    "for x in fortune_comp.iloc[:, np.r_[2,4,6:8]]: \n",
    "    fortune_comp[x] = fortune_comp[x].apply(clean_currency)"
   ]
  },
  {
   "cell_type": "code",
   "execution_count": 14,
   "id": "c6d7a006-a5ea-48ab-8c83-9650a2f81dcd",
   "metadata": {},
   "outputs": [],
   "source": [
    "# Change associated columns to float when currency or requires decimal\n",
    "for x in fortune_comp.iloc[:, np.r_[2:8]]: \n",
    "    fortune_comp[x] = fortune_comp[x].astype(float)"
   ]
  },
  {
   "cell_type": "code",
   "execution_count": 15,
   "id": "7a08d718-3966-498e-9216-c62ae1b7e90b",
   "metadata": {},
   "outputs": [],
   "source": [
    "# Change ranks to int\n",
    "for x in fortune_comp.iloc[:, np.r_[8:12]]: \n",
    "    fortune_comp[x] = fortune_comp[x].astype(int)"
   ]
  },
  {
   "cell_type": "code",
   "execution_count": 10,
   "id": "9f66da2a-d9cb-4dcc-a5ea-feac2d61576b",
   "metadata": {},
   "outputs": [
    {
     "data": {
      "text/plain": [
       "(1000, 12)"
      ]
     },
     "execution_count": 10,
     "metadata": {},
     "output_type": "execute_result"
    }
   ],
   "source": [
    "# 12 columns, 1000 rows\n",
    "# No change of number of records\n",
    "fortune_comp.shape"
   ]
  },
  {
   "cell_type": "code",
   "execution_count": 16,
   "id": "b3bc5270-93ef-4a5d-b544-76e0031ffcfb",
   "metadata": {},
   "outputs": [
    {
     "data": {
      "text/html": [
       "<div>\n",
       "<style scoped>\n",
       "    .dataframe tbody tr th:only-of-type {\n",
       "        vertical-align: middle;\n",
       "    }\n",
       "\n",
       "    .dataframe tbody tr th {\n",
       "        vertical-align: top;\n",
       "    }\n",
       "\n",
       "    .dataframe thead th {\n",
       "        text-align: right;\n",
       "    }\n",
       "</style>\n",
       "<table border=\"1\" class=\"dataframe\">\n",
       "  <thead>\n",
       "    <tr style=\"text-align: right;\">\n",
       "      <th></th>\n",
       "      <th>rank</th>\n",
       "      <th>name</th>\n",
       "      <th>rev</th>\n",
       "      <th>rev_change</th>\n",
       "      <th>profit</th>\n",
       "      <th>profit_change</th>\n",
       "      <th>assets</th>\n",
       "      <th>market</th>\n",
       "      <th>rank_change_1000</th>\n",
       "      <th>emp</th>\n",
       "      <th>rank_change_500</th>\n",
       "      <th>rank_measure</th>\n",
       "    </tr>\n",
       "  </thead>\n",
       "  <tbody>\n",
       "    <tr>\n",
       "      <th>0</th>\n",
       "      <td>1</td>\n",
       "      <td>Walmart</td>\n",
       "      <td>559151.0</td>\n",
       "      <td>0.067</td>\n",
       "      <td>13510.0</td>\n",
       "      <td>-0.092</td>\n",
       "      <td>252496.0</td>\n",
       "      <td>382642.8</td>\n",
       "      <td>0</td>\n",
       "      <td>2300000</td>\n",
       "      <td>0</td>\n",
       "      <td>20</td>\n",
       "    </tr>\n",
       "    <tr>\n",
       "      <th>1</th>\n",
       "      <td>2</td>\n",
       "      <td>Amazon</td>\n",
       "      <td>386064.0</td>\n",
       "      <td>0.376</td>\n",
       "      <td>21331.0</td>\n",
       "      <td>0.841</td>\n",
       "      <td>321195.0</td>\n",
       "      <td>1558069.6</td>\n",
       "      <td>0</td>\n",
       "      <td>1298000</td>\n",
       "      <td>0</td>\n",
       "      <td>11</td>\n",
       "    </tr>\n",
       "    <tr>\n",
       "      <th>2</th>\n",
       "      <td>3</td>\n",
       "      <td>Apple</td>\n",
       "      <td>274515.0</td>\n",
       "      <td>0.055</td>\n",
       "      <td>57411.0</td>\n",
       "      <td>0.039</td>\n",
       "      <td>323888.0</td>\n",
       "      <td>2050665.9</td>\n",
       "      <td>1</td>\n",
       "      <td>147000</td>\n",
       "      <td>1</td>\n",
       "      <td>188</td>\n",
       "    </tr>\n",
       "    <tr>\n",
       "      <th>3</th>\n",
       "      <td>4</td>\n",
       "      <td>CVS Health</td>\n",
       "      <td>268706.0</td>\n",
       "      <td>0.046</td>\n",
       "      <td>7179.0</td>\n",
       "      <td>0.082</td>\n",
       "      <td>230715.0</td>\n",
       "      <td>98653.2</td>\n",
       "      <td>1</td>\n",
       "      <td>256500</td>\n",
       "      <td>1</td>\n",
       "      <td>57</td>\n",
       "    </tr>\n",
       "    <tr>\n",
       "      <th>4</th>\n",
       "      <td>5</td>\n",
       "      <td>UnitedHealth Group</td>\n",
       "      <td>257141.0</td>\n",
       "      <td>0.062</td>\n",
       "      <td>15403.0</td>\n",
       "      <td>0.113</td>\n",
       "      <td>197289.0</td>\n",
       "      <td>351725.0</td>\n",
       "      <td>2</td>\n",
       "      <td>330000</td>\n",
       "      <td>2</td>\n",
       "      <td>25</td>\n",
       "    </tr>\n",
       "  </tbody>\n",
       "</table>\n",
       "</div>"
      ],
      "text/plain": [
       "   rank                name       rev  rev_change   profit  profit_change  \\\n",
       "0     1             Walmart  559151.0       0.067  13510.0         -0.092   \n",
       "1     2              Amazon  386064.0       0.376  21331.0          0.841   \n",
       "2     3               Apple  274515.0       0.055  57411.0          0.039   \n",
       "3     4          CVS Health  268706.0       0.046   7179.0          0.082   \n",
       "4     5  UnitedHealth Group  257141.0       0.062  15403.0          0.113   \n",
       "\n",
       "     assets     market  rank_change_1000      emp  rank_change_500  \\\n",
       "0  252496.0   382642.8                 0  2300000                0   \n",
       "1  321195.0  1558069.6                 0  1298000                0   \n",
       "2  323888.0  2050665.9                 1   147000                1   \n",
       "3  230715.0    98653.2                 1   256500                1   \n",
       "4  197289.0   351725.0                 2   330000                2   \n",
       "\n",
       "   rank_measure  \n",
       "0            20  \n",
       "1            11  \n",
       "2           188  \n",
       "3            57  \n",
       "4            25  "
      ]
     },
     "execution_count": 16,
     "metadata": {},
     "output_type": "execute_result"
    }
   ],
   "source": [
    "# First 10 records\n",
    "fortune_comp.head()"
   ]
  },
  {
   "cell_type": "markdown",
   "id": "3daf6863-88fb-4d79-bb34-191f3bb75e7c",
   "metadata": {},
   "source": [
    "### Website: List of S&P 500 Companies"
   ]
  },
  {
   "cell_type": "code",
   "execution_count": 12,
   "id": "bbae87e8-1ab7-452e-9beb-93b86b1b19bf",
   "metadata": {},
   "outputs": [],
   "source": [
    "# Get html page\n",
    "html_document = requests.get('https://en.wikipedia.org/wiki/List_of_S%26P_500_companies#:~:text=S%26P%20500%20component%20stocks%20%20%20%20Symbol,%20%20%20%2014%20more%20rows%20')"
   ]
  },
  {
   "cell_type": "code",
   "execution_count": 13,
   "id": "9b2ba55a-037c-45a0-9312-8d6504215f5d",
   "metadata": {},
   "outputs": [],
   "source": [
    "# Pares through Beautiful Soup\n",
    "soup = BeautifulSoup(html_document.text, 'html.parser')"
   ]
  },
  {
   "cell_type": "code",
   "execution_count": 14,
   "id": "29efea79-86d0-4540-ab20-a93fba4ca46a",
   "metadata": {},
   "outputs": [],
   "source": [
    "# the table has id of constituents\n",
    "table = soup.find_all('table', {'id':'constituents'})"
   ]
  },
  {
   "cell_type": "code",
   "execution_count": 15,
   "id": "0e443800-7bad-41f2-a5d5-faace654b575",
   "metadata": {},
   "outputs": [],
   "source": [
    "# Get headers of table\n",
    "headers = [th.getText().strip() for th in table[0].findAll('th')]"
   ]
  },
  {
   "cell_type": "code",
   "execution_count": 16,
   "id": "99e82ffe-5e3a-4ab0-ba09-25e161e3f0b4",
   "metadata": {},
   "outputs": [],
   "source": [
    "# Get rows by getting all tr in tbody\n",
    "rows = table[0].findAll('tr')[1:]\n",
    "    \n",
    "# get text from row in each cell\n",
    "row_data = [[td.text.strip() for td in tr.findAll('td')] for tr in rows]"
   ]
  },
  {
   "cell_type": "code",
   "execution_count": 17,
   "id": "f2c3d195-c07e-4009-8f74-5ba56f7f48b1",
   "metadata": {},
   "outputs": [],
   "source": [
    "# Create dataframe with header and row text\n",
    "sp_table = pd.DataFrame(row_data, columns=headers)"
   ]
  },
  {
   "cell_type": "code",
   "execution_count": 18,
   "id": "4d49ac26-254c-436f-a83a-5f4c1e774506",
   "metadata": {},
   "outputs": [],
   "source": [
    "new_column_headers = {'Symbol': 'symbol',\n",
    "                      'Security': 'security',\n",
    "                      'GICS Sector': 'gics_sec',\n",
    "                      'GICS Sub-Industry': 'gics_sub',\n",
    "                      'Headquarters Location': 'headquarters',\n",
    "                      'Date added': 'sp_date',\n",
    "                      'CIK': 'cik',\n",
    "                      'Founded':'founded'}"
   ]
  },
  {
   "cell_type": "code",
   "execution_count": 19,
   "id": "109fa0af-a2e5-43cd-af75-4e0b3493fd81",
   "metadata": {},
   "outputs": [
    {
     "data": {
      "text/html": [
       "<div>\n",
       "<style scoped>\n",
       "    .dataframe tbody tr th:only-of-type {\n",
       "        vertical-align: middle;\n",
       "    }\n",
       "\n",
       "    .dataframe tbody tr th {\n",
       "        vertical-align: top;\n",
       "    }\n",
       "\n",
       "    .dataframe thead th {\n",
       "        text-align: right;\n",
       "    }\n",
       "</style>\n",
       "<table border=\"1\" class=\"dataframe\">\n",
       "  <thead>\n",
       "    <tr style=\"text-align: right;\">\n",
       "      <th></th>\n",
       "      <th>symbol</th>\n",
       "      <th>security</th>\n",
       "      <th>gics_sec</th>\n",
       "      <th>gics_sub</th>\n",
       "      <th>headquarters</th>\n",
       "      <th>sp_date</th>\n",
       "      <th>cik</th>\n",
       "      <th>founded</th>\n",
       "    </tr>\n",
       "  </thead>\n",
       "  <tbody>\n",
       "    <tr>\n",
       "      <th>0</th>\n",
       "      <td>MMM</td>\n",
       "      <td>3M</td>\n",
       "      <td>Industrials</td>\n",
       "      <td>Industrial Conglomerates</td>\n",
       "      <td>Saint Paul, Minnesota</td>\n",
       "      <td>1976-08-09</td>\n",
       "      <td>0000066740</td>\n",
       "      <td>1902</td>\n",
       "    </tr>\n",
       "    <tr>\n",
       "      <th>1</th>\n",
       "      <td>AOS</td>\n",
       "      <td>A. O. Smith</td>\n",
       "      <td>Industrials</td>\n",
       "      <td>Building Products</td>\n",
       "      <td>Milwaukee, Wisconsin</td>\n",
       "      <td>2017-07-26</td>\n",
       "      <td>0000091142</td>\n",
       "      <td>1916</td>\n",
       "    </tr>\n",
       "    <tr>\n",
       "      <th>2</th>\n",
       "      <td>ABT</td>\n",
       "      <td>Abbott</td>\n",
       "      <td>Health Care</td>\n",
       "      <td>Health Care Equipment</td>\n",
       "      <td>North Chicago, Illinois</td>\n",
       "      <td>1964-03-31</td>\n",
       "      <td>0000001800</td>\n",
       "      <td>1888</td>\n",
       "    </tr>\n",
       "    <tr>\n",
       "      <th>3</th>\n",
       "      <td>ABBV</td>\n",
       "      <td>AbbVie</td>\n",
       "      <td>Health Care</td>\n",
       "      <td>Pharmaceuticals</td>\n",
       "      <td>North Chicago, Illinois</td>\n",
       "      <td>2012-12-31</td>\n",
       "      <td>0001551152</td>\n",
       "      <td>2013 (1888)</td>\n",
       "    </tr>\n",
       "    <tr>\n",
       "      <th>4</th>\n",
       "      <td>ACN</td>\n",
       "      <td>Accenture</td>\n",
       "      <td>Information Technology</td>\n",
       "      <td>IT Consulting &amp; Other Services</td>\n",
       "      <td>Dublin, Ireland</td>\n",
       "      <td>2011-07-06</td>\n",
       "      <td>0001467373</td>\n",
       "      <td>1989</td>\n",
       "    </tr>\n",
       "  </tbody>\n",
       "</table>\n",
       "</div>"
      ],
      "text/plain": [
       "  symbol     security                gics_sec                        gics_sub  \\\n",
       "0    MMM           3M             Industrials        Industrial Conglomerates   \n",
       "1    AOS  A. O. Smith             Industrials               Building Products   \n",
       "2    ABT       Abbott             Health Care           Health Care Equipment   \n",
       "3   ABBV       AbbVie             Health Care                 Pharmaceuticals   \n",
       "4    ACN    Accenture  Information Technology  IT Consulting & Other Services   \n",
       "\n",
       "              headquarters     sp_date         cik      founded  \n",
       "0    Saint Paul, Minnesota  1976-08-09  0000066740         1902  \n",
       "1     Milwaukee, Wisconsin  2017-07-26  0000091142         1916  \n",
       "2  North Chicago, Illinois  1964-03-31  0000001800         1888  \n",
       "3  North Chicago, Illinois  2012-12-31  0001551152  2013 (1888)  \n",
       "4          Dublin, Ireland  2011-07-06  0001467373         1989  "
      ]
     },
     "execution_count": 19,
     "metadata": {},
     "output_type": "execute_result"
    }
   ],
   "source": [
    "# Rename columns based on list above and replace\n",
    "sp_table.rename(columns=new_column_headers, inplace=True)\n",
    "sp_table.head()"
   ]
  },
  {
   "cell_type": "code",
   "execution_count": 20,
   "id": "b4527b0a-dcfa-416e-915a-9d56fa807db9",
   "metadata": {},
   "outputs": [],
   "source": [
    "# Split founded year to only use the first entered year\n",
    "sp_table['founded'] = sp_table['founded'].str.split('(').str[0]\n",
    "sp_table['founded'] = sp_table['founded'].str.split('/').str[0]"
   ]
  },
  {
   "cell_type": "code",
   "execution_count": 21,
   "id": "860d3543-c009-4760-a016-63e2ab400c64",
   "metadata": {},
   "outputs": [],
   "source": [
    "# Convert from object to int\n",
    "sp_table['founded'] = sp_table['founded'].astype(int)"
   ]
  },
  {
   "cell_type": "code",
   "execution_count": 22,
   "id": "142adea0-3ba8-4b03-a005-58ffa70db842",
   "metadata": {},
   "outputs": [
    {
     "name": "stderr",
     "output_type": "stream",
     "text": [
      "C:\\Users\\jcamp\\AppData\\Local\\Temp\\ipykernel_18560\\418126011.py:3: FutureWarning: The default value of regex will change from True to False in a future version.\n",
      "  sp_table['sp_date'] = sp_table['sp_date'].str.replace('[<,?]', '')\n"
     ]
    }
   ],
   "source": [
    "# Split date added for first date entered\n",
    "sp_table['sp_date'] = sp_table['sp_date'].str.split('(').str[0]\n",
    "sp_table['sp_date'] = sp_table['sp_date'].str.replace('[<,?]', '')"
   ]
  },
  {
   "cell_type": "code",
   "execution_count": 23,
   "id": "d0bfeb26-952f-4e83-9f7f-04399c5bbaa3",
   "metadata": {},
   "outputs": [],
   "source": [
    "# Convert to datetime\n",
    "sp_table['sp_date'] = pd.to_datetime(sp_table['sp_date'])"
   ]
  },
  {
   "cell_type": "code",
   "execution_count": 24,
   "id": "d4a14fbb-1d96-42a4-b85e-cc3b3079eab6",
   "metadata": {},
   "outputs": [],
   "source": [
    "# Drop duplicates\n",
    "# Kept Class A records\n",
    "sp_table.drop_duplicates(subset='cik', inplace=True)"
   ]
  },
  {
   "cell_type": "code",
   "execution_count": 25,
   "id": "bb468c28-7300-4c47-b4ee-96659eb090fd",
   "metadata": {},
   "outputs": [],
   "source": [
    "sp_table['cik'] = sp_table['cik'].astype(int)"
   ]
  },
  {
   "cell_type": "code",
   "execution_count": 26,
   "id": "e9b786a3-7bea-4516-bdce-5b67f3cfe3ce",
   "metadata": {},
   "outputs": [],
   "source": [
    "# Seperate city and state/province for headquarters\n",
    "# Use first entry\n",
    "sp_table['hq_city'] = sp_table['headquarters'].str.split(',', expand = True)[0]\n",
    "sp_table['hq_state_prov'] = sp_table['headquarters'].str.split(',', expand = True)[1]"
   ]
  },
  {
   "cell_type": "code",
   "execution_count": 27,
   "id": "625d7cec-ffcd-41e4-8935-484c1e7aa33c",
   "metadata": {},
   "outputs": [],
   "source": [
    "# Drop original headquarters\n",
    "sp_table.drop(['headquarters'], axis=1, inplace=True)"
   ]
  },
  {
   "cell_type": "code",
   "execution_count": 28,
   "id": "a6295dd2-fc52-4fa1-a400-76c415c8d8ce",
   "metadata": {},
   "outputs": [
    {
     "data": {
      "text/plain": [
       "(500, 9)"
      ]
     },
     "execution_count": 28,
     "metadata": {},
     "output_type": "execute_result"
    }
   ],
   "source": [
    "sp_table.shape"
   ]
  },
  {
   "cell_type": "code",
   "execution_count": 29,
   "id": "501e8217-224a-4eef-87d6-bef7d9672143",
   "metadata": {},
   "outputs": [
    {
     "data": {
      "text/html": [
       "<div>\n",
       "<style scoped>\n",
       "    .dataframe tbody tr th:only-of-type {\n",
       "        vertical-align: middle;\n",
       "    }\n",
       "\n",
       "    .dataframe tbody tr th {\n",
       "        vertical-align: top;\n",
       "    }\n",
       "\n",
       "    .dataframe thead th {\n",
       "        text-align: right;\n",
       "    }\n",
       "</style>\n",
       "<table border=\"1\" class=\"dataframe\">\n",
       "  <thead>\n",
       "    <tr style=\"text-align: right;\">\n",
       "      <th></th>\n",
       "      <th>symbol</th>\n",
       "      <th>security</th>\n",
       "      <th>gics_sec</th>\n",
       "      <th>gics_sub</th>\n",
       "      <th>sp_date</th>\n",
       "      <th>cik</th>\n",
       "      <th>founded</th>\n",
       "      <th>hq_city</th>\n",
       "      <th>hq_state_prov</th>\n",
       "    </tr>\n",
       "  </thead>\n",
       "  <tbody>\n",
       "    <tr>\n",
       "      <th>0</th>\n",
       "      <td>MMM</td>\n",
       "      <td>3M</td>\n",
       "      <td>Industrials</td>\n",
       "      <td>Industrial Conglomerates</td>\n",
       "      <td>1976-08-09</td>\n",
       "      <td>66740</td>\n",
       "      <td>1902</td>\n",
       "      <td>Saint Paul</td>\n",
       "      <td>Minnesota</td>\n",
       "    </tr>\n",
       "    <tr>\n",
       "      <th>1</th>\n",
       "      <td>AOS</td>\n",
       "      <td>A. O. Smith</td>\n",
       "      <td>Industrials</td>\n",
       "      <td>Building Products</td>\n",
       "      <td>2017-07-26</td>\n",
       "      <td>91142</td>\n",
       "      <td>1916</td>\n",
       "      <td>Milwaukee</td>\n",
       "      <td>Wisconsin</td>\n",
       "    </tr>\n",
       "    <tr>\n",
       "      <th>2</th>\n",
       "      <td>ABT</td>\n",
       "      <td>Abbott</td>\n",
       "      <td>Health Care</td>\n",
       "      <td>Health Care Equipment</td>\n",
       "      <td>1964-03-31</td>\n",
       "      <td>1800</td>\n",
       "      <td>1888</td>\n",
       "      <td>North Chicago</td>\n",
       "      <td>Illinois</td>\n",
       "    </tr>\n",
       "    <tr>\n",
       "      <th>3</th>\n",
       "      <td>ABBV</td>\n",
       "      <td>AbbVie</td>\n",
       "      <td>Health Care</td>\n",
       "      <td>Pharmaceuticals</td>\n",
       "      <td>2012-12-31</td>\n",
       "      <td>1551152</td>\n",
       "      <td>2013</td>\n",
       "      <td>North Chicago</td>\n",
       "      <td>Illinois</td>\n",
       "    </tr>\n",
       "    <tr>\n",
       "      <th>4</th>\n",
       "      <td>ACN</td>\n",
       "      <td>Accenture</td>\n",
       "      <td>Information Technology</td>\n",
       "      <td>IT Consulting &amp; Other Services</td>\n",
       "      <td>2011-07-06</td>\n",
       "      <td>1467373</td>\n",
       "      <td>1989</td>\n",
       "      <td>Dublin</td>\n",
       "      <td>Ireland</td>\n",
       "    </tr>\n",
       "  </tbody>\n",
       "</table>\n",
       "</div>"
      ],
      "text/plain": [
       "  symbol     security                gics_sec                        gics_sub  \\\n",
       "0    MMM           3M             Industrials        Industrial Conglomerates   \n",
       "1    AOS  A. O. Smith             Industrials               Building Products   \n",
       "2    ABT       Abbott             Health Care           Health Care Equipment   \n",
       "3   ABBV       AbbVie             Health Care                 Pharmaceuticals   \n",
       "4    ACN    Accenture  Information Technology  IT Consulting & Other Services   \n",
       "\n",
       "     sp_date      cik  founded        hq_city hq_state_prov  \n",
       "0 1976-08-09    66740     1902     Saint Paul     Minnesota  \n",
       "1 2017-07-26    91142     1916      Milwaukee     Wisconsin  \n",
       "2 1964-03-31     1800     1888  North Chicago      Illinois  \n",
       "3 2012-12-31  1551152     2013  North Chicago      Illinois  \n",
       "4 2011-07-06  1467373     1989         Dublin       Ireland  "
      ]
     },
     "execution_count": 29,
     "metadata": {},
     "output_type": "execute_result"
    }
   ],
   "source": [
    "sp_table.head()"
   ]
  },
  {
   "cell_type": "markdown",
   "id": "fba36cc4-5933-4e78-b630-f9f6219894f6",
   "metadata": {},
   "source": [
    "### API: Marketstack Historical Data"
   ]
  },
  {
   "cell_type": "code",
   "execution_count": 30,
   "id": "245b457c-68bd-44be-97b6-bca897ebe19d",
   "metadata": {},
   "outputs": [],
   "source": [
    "# Get access key\n",
    "with open('MarketStackAPIkeys.json') as f:\n",
    "    key = json.load(f)\n",
    "    access_key = key['access_key']"
   ]
  },
  {
   "cell_type": "code",
   "execution_count": 31,
   "id": "0a6aee0a-09d7-4888-85f2-b9d333275e74",
   "metadata": {},
   "outputs": [],
   "source": [
    "# Get individual stock data\n",
    "def getStockData(frames, ticker):\n",
    "    try:    \n",
    "        # Connect to Marketstack API\n",
    "        conn = http.client.HTTPConnection(\"api.marketstack.com\")\n",
    "        # Pull data by stock ticker from the end of December 2021\n",
    "        conn.request(\"GET\", \"/v1/eod?access_key=\" + access_key + \"&symbols=\"+ ticker +\"&%20date_from=2021-12-31&date_to=2021-12-31\")\n",
    "\n",
    "        # read and parse response\n",
    "        res = conn.getresponse()\n",
    "        data = res.read()\n",
    "        stock = json.loads(data)\n",
    "\n",
    "        # if valid, parse and add data to df\n",
    "        if(res.status == 200):\n",
    "            stock_df = pd.DataFrame(stock['data'])\n",
    "            frames.append(stock_df)\n",
    "        else:\n",
    "            print(\"Error: \",stock['Error'])\n",
    "\n",
    "    # print any URL error\n",
    "    except urllib.error.URLError as e:\n",
    "        print(e)\n",
    "        print(\"ERROR: {}\".format(e.reason))    "
   ]
  },
  {
   "cell_type": "code",
   "execution_count": 32,
   "id": "536855e3-e1ba-4804-941d-6d78ec2aa9d8",
   "metadata": {},
   "outputs": [],
   "source": [
    "# Find and combine all stock data\n",
    "def createDF(tickers):\n",
    "    frames = []\n",
    "    # for each ticker in list\n",
    "    for t in tickers:\n",
    "        # Find associated stock data\n",
    "        getStockData(frames, t)\n",
    "    # add all calls to one dataframe\n",
    "    stock_df = pd.concat(frames)\n",
    "    return stock_df"
   ]
  },
  {
   "cell_type": "code",
   "execution_count": null,
   "id": "af32e658-16e4-425f-baf1-04597e5ede50",
   "metadata": {},
   "outputs": [],
   "source": [
    "# Grab data through API call\n",
    "stock_df = createDF(list(sp_table.symbol))\n",
    "# Reset index\n",
    "stock_df.reset_index(inplace = True)"
   ]
  },
  {
   "cell_type": "code",
   "execution_count": 49,
   "id": "57dd2863-fdb3-4dd3-adf2-1702aca37833",
   "metadata": {},
   "outputs": [
    {
     "name": "stderr",
     "output_type": "stream",
     "text": [
      "C:\\Users\\jcamp\\AppData\\Local\\Temp\\ipykernel_18560\\701533649.py:13: SettingWithCopyWarning: \n",
      "A value is trying to be set on a copy of a slice from a DataFrame\n",
      "\n",
      "See the caveats in the documentation: https://pandas.pydata.org/pandas-docs/stable/user_guide/indexing.html#returning-a-view-versus-a-copy\n",
      "  stock_df[i].loc[index] = value\n"
     ]
    }
   ],
   "source": [
    "# For the main stock measurements\n",
    "for i in stock_df.iloc[:, 1:5]:\n",
    "    count = 0\n",
    "    # for each of the adjusted measurements\n",
    "    for a in stock_df.iloc[:, 5:10]:\n",
    "        # Check if adjusted matches main name\n",
    "        if i in a:\n",
    "            # For each value in adjusted\n",
    "            for index, value in stock_df[a].iteritems():\n",
    "                # Check not null\n",
    "                if pd.notna(value):\n",
    "                    # Replace main value with adjusted\n",
    "                    stock_df[i].loc[index] = value\n",
    "                    count += 1"
   ]
  },
  {
   "cell_type": "code",
   "execution_count": 50,
   "id": "923ece44-04ff-4e34-9384-75abe0c096aa",
   "metadata": {},
   "outputs": [],
   "source": [
    "# Drop all columns with adjusted values, split factor, and dividends\n",
    "stock_df.drop(stock_df.columns[5:12], axis=1, inplace=True)"
   ]
  },
  {
   "cell_type": "code",
   "execution_count": 51,
   "id": "2c39deb1-73bd-405e-9307-ab6189aeaa1b",
   "metadata": {},
   "outputs": [],
   "source": [
    "stockr_df = stock_df.reindex(columns= ['symbol', 'open', 'high', 'low', 'close', 'volume', 'exchange', 'date'])"
   ]
  },
  {
   "cell_type": "code",
   "execution_count": 52,
   "id": "d10d41e8-67a1-40a7-ba5f-e5cb3a3834c8",
   "metadata": {},
   "outputs": [],
   "source": [
    "stockr_df['date'] = pd.to_datetime(stockr_df['date'])\n",
    "stockr_df['date'] = stockr_df['date'].dt.date"
   ]
  },
  {
   "cell_type": "code",
   "execution_count": 53,
   "id": "7efbdabb-c937-4357-ba38-ec6f53ab9d71",
   "metadata": {},
   "outputs": [],
   "source": [
    "# Outlier found for GOOG\n",
    "# Copy high, low, and close from GOOGL affiliated stock as reference point\n",
    "stockr_df.at[23,'high'] = stockr_df.at[22,'high']\n",
    "stockr_df.at[23,'low'] = stockr_df.at[22,'low']\n",
    "stockr_df.at[23,'close'] = stockr_df.at[22,'close']"
   ]
  },
  {
   "cell_type": "code",
   "execution_count": 54,
   "id": "22750d52-06e1-471d-8d1f-544d06634e47",
   "metadata": {},
   "outputs": [],
   "source": [
    "stockr_df['diff'] = stockr_df['close'] - stockr_df['open']"
   ]
  },
  {
   "cell_type": "code",
   "execution_count": 55,
   "id": "44050cd5-6b2d-453a-96b5-875c1c72dc02",
   "metadata": {},
   "outputs": [
    {
     "data": {
      "text/html": [
       "<div>\n",
       "<style scoped>\n",
       "    .dataframe tbody tr th:only-of-type {\n",
       "        vertical-align: middle;\n",
       "    }\n",
       "\n",
       "    .dataframe tbody tr th {\n",
       "        vertical-align: top;\n",
       "    }\n",
       "\n",
       "    .dataframe thead th {\n",
       "        text-align: right;\n",
       "    }\n",
       "</style>\n",
       "<table border=\"1\" class=\"dataframe\">\n",
       "  <thead>\n",
       "    <tr style=\"text-align: right;\">\n",
       "      <th></th>\n",
       "      <th>symbol</th>\n",
       "      <th>open</th>\n",
       "      <th>high</th>\n",
       "      <th>low</th>\n",
       "      <th>close</th>\n",
       "      <th>volume</th>\n",
       "      <th>exchange</th>\n",
       "      <th>date</th>\n",
       "      <th>diff</th>\n",
       "    </tr>\n",
       "  </thead>\n",
       "  <tbody>\n",
       "    <tr>\n",
       "      <th>0</th>\n",
       "      <td>MMM</td>\n",
       "      <td>177.53</td>\n",
       "      <td>178.35</td>\n",
       "      <td>176.5100</td>\n",
       "      <td>177.63</td>\n",
       "      <td>1414600.0</td>\n",
       "      <td>XNYS</td>\n",
       "      <td>2021-12-31</td>\n",
       "      <td>0.10</td>\n",
       "    </tr>\n",
       "    <tr>\n",
       "      <th>1</th>\n",
       "      <td>AOS</td>\n",
       "      <td>85.13</td>\n",
       "      <td>86.25</td>\n",
       "      <td>85.1300</td>\n",
       "      <td>85.85</td>\n",
       "      <td>966600.0</td>\n",
       "      <td>XNYS</td>\n",
       "      <td>2021-12-31</td>\n",
       "      <td>0.72</td>\n",
       "    </tr>\n",
       "    <tr>\n",
       "      <th>2</th>\n",
       "      <td>ABT</td>\n",
       "      <td>141.00</td>\n",
       "      <td>141.77</td>\n",
       "      <td>140.7200</td>\n",
       "      <td>140.74</td>\n",
       "      <td>3271000.0</td>\n",
       "      <td>XNYS</td>\n",
       "      <td>2021-12-31</td>\n",
       "      <td>-0.26</td>\n",
       "    </tr>\n",
       "    <tr>\n",
       "      <th>3</th>\n",
       "      <td>ABBV</td>\n",
       "      <td>136.04</td>\n",
       "      <td>136.21</td>\n",
       "      <td>135.3000</td>\n",
       "      <td>135.40</td>\n",
       "      <td>3962700.0</td>\n",
       "      <td>XNYS</td>\n",
       "      <td>2021-12-31</td>\n",
       "      <td>-0.64</td>\n",
       "    </tr>\n",
       "    <tr>\n",
       "      <th>4</th>\n",
       "      <td>ACN</td>\n",
       "      <td>412.70</td>\n",
       "      <td>416.95</td>\n",
       "      <td>412.1096</td>\n",
       "      <td>414.55</td>\n",
       "      <td>1163448.0</td>\n",
       "      <td>XNYS</td>\n",
       "      <td>2021-12-31</td>\n",
       "      <td>1.85</td>\n",
       "    </tr>\n",
       "  </tbody>\n",
       "</table>\n",
       "</div>"
      ],
      "text/plain": [
       "  symbol    open    high       low   close     volume exchange        date  \\\n",
       "0    MMM  177.53  178.35  176.5100  177.63  1414600.0     XNYS  2021-12-31   \n",
       "1    AOS   85.13   86.25   85.1300   85.85   966600.0     XNYS  2021-12-31   \n",
       "2    ABT  141.00  141.77  140.7200  140.74  3271000.0     XNYS  2021-12-31   \n",
       "3   ABBV  136.04  136.21  135.3000  135.40  3962700.0     XNYS  2021-12-31   \n",
       "4    ACN  412.70  416.95  412.1096  414.55  1163448.0     XNYS  2021-12-31   \n",
       "\n",
       "   diff  \n",
       "0  0.10  \n",
       "1  0.72  \n",
       "2 -0.26  \n",
       "3 -0.64  \n",
       "4  1.85  "
      ]
     },
     "execution_count": 55,
     "metadata": {},
     "output_type": "execute_result"
    }
   ],
   "source": [
    "stockr_df.head()"
   ]
  },
  {
   "cell_type": "markdown",
   "id": "8bd3afa7-17c1-4ee8-ac82-2058c54098a2",
   "metadata": {},
   "source": [
    "## Create Database"
   ]
  },
  {
   "cell_type": "code",
   "execution_count": 2,
   "id": "edb5f1b8-bf5d-4a56-b913-3d6e8d7463b5",
   "metadata": {},
   "outputs": [],
   "source": [
    "# Import libararies\n",
    "import sqlite3"
   ]
  },
  {
   "cell_type": "code",
   "execution_count": 5,
   "id": "586ba02c-3305-42d2-857f-330257f3eac9",
   "metadata": {},
   "outputs": [],
   "source": [
    "# Function to check connection\n",
    "def connectionStatus(conn):\n",
    "    try:\n",
    "        conn.execute(\"SELECT * FROM sp500 LIMIT 1\")\n",
    "        return True\n",
    "    except sqlite3.ProgrammingError as e:\n",
    "        print(\"No connection. Error: {}\".format(e))\n",
    "        return False"
   ]
  },
  {
   "cell_type": "code",
   "execution_count": 3,
   "id": "c0b782b4-1fae-4288-99b9-85a1b7df4857",
   "metadata": {},
   "outputs": [],
   "source": [
    "conn = sqlite3.connect('sp500index.db')"
   ]
  },
  {
   "cell_type": "code",
   "execution_count": 7,
   "id": "85600bf4-a358-4bd5-9c04-876d0c479be9",
   "metadata": {},
   "outputs": [
    {
     "data": {
      "text/plain": [
       "True"
      ]
     },
     "execution_count": 7,
     "metadata": {},
     "output_type": "execute_result"
    }
   ],
   "source": [
    "connectionStatus(conn)"
   ]
  },
  {
   "cell_type": "code",
   "execution_count": 4,
   "id": "e6e7fb96-f49b-47b3-b2d0-dd823848889b",
   "metadata": {},
   "outputs": [],
   "source": [
    "c = conn.cursor()"
   ]
  },
  {
   "cell_type": "markdown",
   "id": "4e9cc5df-e40f-43c6-9aef-e45a28364883",
   "metadata": {},
   "source": [
    "### Fortune 1000 Table"
   ]
  },
  {
   "cell_type": "code",
   "execution_count": 17,
   "id": "986900af-7f1d-480f-b3ac-57661bd5138a",
   "metadata": {},
   "outputs": [
    {
     "data": {
      "text/plain": [
       "1000"
      ]
     },
     "execution_count": 17,
     "metadata": {},
     "output_type": "execute_result"
    }
   ],
   "source": [
    "fortune_comp.to_sql(\"fortune1000\", conn, if_exists=\"replace\")"
   ]
  },
  {
   "cell_type": "code",
   "execution_count": 18,
   "id": "35240ed5-a20c-46cb-8133-035dd4f305cf",
   "metadata": {},
   "outputs": [
    {
     "data": {
      "text/html": [
       "<div>\n",
       "<style scoped>\n",
       "    .dataframe tbody tr th:only-of-type {\n",
       "        vertical-align: middle;\n",
       "    }\n",
       "\n",
       "    .dataframe tbody tr th {\n",
       "        vertical-align: top;\n",
       "    }\n",
       "\n",
       "    .dataframe thead th {\n",
       "        text-align: right;\n",
       "    }\n",
       "</style>\n",
       "<table border=\"1\" class=\"dataframe\">\n",
       "  <thead>\n",
       "    <tr style=\"text-align: right;\">\n",
       "      <th></th>\n",
       "      <th>index</th>\n",
       "      <th>rank</th>\n",
       "      <th>name</th>\n",
       "      <th>rev</th>\n",
       "      <th>rev_change</th>\n",
       "      <th>profit</th>\n",
       "      <th>profit_change</th>\n",
       "      <th>assets</th>\n",
       "      <th>market</th>\n",
       "      <th>rank_change_1000</th>\n",
       "      <th>emp</th>\n",
       "      <th>rank_change_500</th>\n",
       "      <th>rank_measure</th>\n",
       "    </tr>\n",
       "  </thead>\n",
       "  <tbody>\n",
       "    <tr>\n",
       "      <th>0</th>\n",
       "      <td>0</td>\n",
       "      <td>1</td>\n",
       "      <td>Walmart</td>\n",
       "      <td>559151.0</td>\n",
       "      <td>0.067</td>\n",
       "      <td>13510.0</td>\n",
       "      <td>-0.092</td>\n",
       "      <td>252496.0</td>\n",
       "      <td>382642.8</td>\n",
       "      <td>0</td>\n",
       "      <td>2300000</td>\n",
       "      <td>0</td>\n",
       "      <td>20</td>\n",
       "    </tr>\n",
       "    <tr>\n",
       "      <th>1</th>\n",
       "      <td>1</td>\n",
       "      <td>2</td>\n",
       "      <td>Amazon</td>\n",
       "      <td>386064.0</td>\n",
       "      <td>0.376</td>\n",
       "      <td>21331.0</td>\n",
       "      <td>0.841</td>\n",
       "      <td>321195.0</td>\n",
       "      <td>1558069.6</td>\n",
       "      <td>0</td>\n",
       "      <td>1298000</td>\n",
       "      <td>0</td>\n",
       "      <td>11</td>\n",
       "    </tr>\n",
       "    <tr>\n",
       "      <th>2</th>\n",
       "      <td>2</td>\n",
       "      <td>3</td>\n",
       "      <td>Apple</td>\n",
       "      <td>274515.0</td>\n",
       "      <td>0.055</td>\n",
       "      <td>57411.0</td>\n",
       "      <td>0.039</td>\n",
       "      <td>323888.0</td>\n",
       "      <td>2050665.9</td>\n",
       "      <td>1</td>\n",
       "      <td>147000</td>\n",
       "      <td>1</td>\n",
       "      <td>188</td>\n",
       "    </tr>\n",
       "    <tr>\n",
       "      <th>3</th>\n",
       "      <td>3</td>\n",
       "      <td>4</td>\n",
       "      <td>CVS Health</td>\n",
       "      <td>268706.0</td>\n",
       "      <td>0.046</td>\n",
       "      <td>7179.0</td>\n",
       "      <td>0.082</td>\n",
       "      <td>230715.0</td>\n",
       "      <td>98653.2</td>\n",
       "      <td>1</td>\n",
       "      <td>256500</td>\n",
       "      <td>1</td>\n",
       "      <td>57</td>\n",
       "    </tr>\n",
       "    <tr>\n",
       "      <th>4</th>\n",
       "      <td>4</td>\n",
       "      <td>5</td>\n",
       "      <td>UnitedHealth Group</td>\n",
       "      <td>257141.0</td>\n",
       "      <td>0.062</td>\n",
       "      <td>15403.0</td>\n",
       "      <td>0.113</td>\n",
       "      <td>197289.0</td>\n",
       "      <td>351725.0</td>\n",
       "      <td>2</td>\n",
       "      <td>330000</td>\n",
       "      <td>2</td>\n",
       "      <td>25</td>\n",
       "    </tr>\n",
       "  </tbody>\n",
       "</table>\n",
       "</div>"
      ],
      "text/plain": [
       "   index  rank                name       rev  rev_change   profit  \\\n",
       "0      0     1             Walmart  559151.0       0.067  13510.0   \n",
       "1      1     2              Amazon  386064.0       0.376  21331.0   \n",
       "2      2     3               Apple  274515.0       0.055  57411.0   \n",
       "3      3     4          CVS Health  268706.0       0.046   7179.0   \n",
       "4      4     5  UnitedHealth Group  257141.0       0.062  15403.0   \n",
       "\n",
       "   profit_change    assets     market  rank_change_1000      emp  \\\n",
       "0         -0.092  252496.0   382642.8                 0  2300000   \n",
       "1          0.841  321195.0  1558069.6                 0  1298000   \n",
       "2          0.039  323888.0  2050665.9                 1   147000   \n",
       "3          0.082  230715.0    98653.2                 1   256500   \n",
       "4          0.113  197289.0   351725.0                 2   330000   \n",
       "\n",
       "   rank_change_500  rank_measure  \n",
       "0                0            20  \n",
       "1                0            11  \n",
       "2                1           188  \n",
       "3                1            57  \n",
       "4                2            25  "
      ]
     },
     "execution_count": 18,
     "metadata": {},
     "output_type": "execute_result"
    }
   ],
   "source": [
    "pd.read_sql('SELECT * FROM fortune1000 LIMIT 5',conn)"
   ]
  },
  {
   "cell_type": "markdown",
   "id": "32ec69e8-e61e-4dae-8e16-163b6c9c295b",
   "metadata": {},
   "source": [
    "### S&P 500 Table"
   ]
  },
  {
   "cell_type": "code",
   "execution_count": 39,
   "id": "c7c250ee-f5ab-4338-93d1-548232d117ec",
   "metadata": {},
   "outputs": [
    {
     "data": {
      "text/plain": [
       "500"
      ]
     },
     "execution_count": 39,
     "metadata": {},
     "output_type": "execute_result"
    }
   ],
   "source": [
    "sp_table.to_sql(\"sp500\", conn, if_exists=\"replace\")"
   ]
  },
  {
   "cell_type": "code",
   "execution_count": 19,
   "id": "a49bb9ad-d4b6-429d-8325-270fea95f751",
   "metadata": {},
   "outputs": [
    {
     "data": {
      "text/html": [
       "<div>\n",
       "<style scoped>\n",
       "    .dataframe tbody tr th:only-of-type {\n",
       "        vertical-align: middle;\n",
       "    }\n",
       "\n",
       "    .dataframe tbody tr th {\n",
       "        vertical-align: top;\n",
       "    }\n",
       "\n",
       "    .dataframe thead th {\n",
       "        text-align: right;\n",
       "    }\n",
       "</style>\n",
       "<table border=\"1\" class=\"dataframe\">\n",
       "  <thead>\n",
       "    <tr style=\"text-align: right;\">\n",
       "      <th></th>\n",
       "      <th>index</th>\n",
       "      <th>symbol</th>\n",
       "      <th>security</th>\n",
       "      <th>gics_sec</th>\n",
       "      <th>gics_sub</th>\n",
       "      <th>sp_date</th>\n",
       "      <th>cik</th>\n",
       "      <th>founded</th>\n",
       "      <th>hq_city</th>\n",
       "      <th>hq_state_prov</th>\n",
       "    </tr>\n",
       "  </thead>\n",
       "  <tbody>\n",
       "    <tr>\n",
       "      <th>0</th>\n",
       "      <td>0</td>\n",
       "      <td>MMM</td>\n",
       "      <td>3M</td>\n",
       "      <td>Industrials</td>\n",
       "      <td>Industrial Conglomerates</td>\n",
       "      <td>1976-08-09 00:00:00</td>\n",
       "      <td>66740</td>\n",
       "      <td>1902</td>\n",
       "      <td>Saint Paul</td>\n",
       "      <td>Minnesota</td>\n",
       "    </tr>\n",
       "    <tr>\n",
       "      <th>1</th>\n",
       "      <td>1</td>\n",
       "      <td>AOS</td>\n",
       "      <td>A. O. Smith</td>\n",
       "      <td>Industrials</td>\n",
       "      <td>Building Products</td>\n",
       "      <td>2017-07-26 00:00:00</td>\n",
       "      <td>91142</td>\n",
       "      <td>1916</td>\n",
       "      <td>Milwaukee</td>\n",
       "      <td>Wisconsin</td>\n",
       "    </tr>\n",
       "    <tr>\n",
       "      <th>2</th>\n",
       "      <td>2</td>\n",
       "      <td>ABT</td>\n",
       "      <td>Abbott</td>\n",
       "      <td>Health Care</td>\n",
       "      <td>Health Care Equipment</td>\n",
       "      <td>1964-03-31 00:00:00</td>\n",
       "      <td>1800</td>\n",
       "      <td>1888</td>\n",
       "      <td>North Chicago</td>\n",
       "      <td>Illinois</td>\n",
       "    </tr>\n",
       "    <tr>\n",
       "      <th>3</th>\n",
       "      <td>3</td>\n",
       "      <td>ABBV</td>\n",
       "      <td>AbbVie</td>\n",
       "      <td>Health Care</td>\n",
       "      <td>Pharmaceuticals</td>\n",
       "      <td>2012-12-31 00:00:00</td>\n",
       "      <td>1551152</td>\n",
       "      <td>2013</td>\n",
       "      <td>North Chicago</td>\n",
       "      <td>Illinois</td>\n",
       "    </tr>\n",
       "    <tr>\n",
       "      <th>4</th>\n",
       "      <td>4</td>\n",
       "      <td>ACN</td>\n",
       "      <td>Accenture</td>\n",
       "      <td>Information Technology</td>\n",
       "      <td>IT Consulting &amp; Other Services</td>\n",
       "      <td>2011-07-06 00:00:00</td>\n",
       "      <td>1467373</td>\n",
       "      <td>1989</td>\n",
       "      <td>Dublin</td>\n",
       "      <td>Ireland</td>\n",
       "    </tr>\n",
       "  </tbody>\n",
       "</table>\n",
       "</div>"
      ],
      "text/plain": [
       "   index symbol     security                gics_sec  \\\n",
       "0      0    MMM           3M             Industrials   \n",
       "1      1    AOS  A. O. Smith             Industrials   \n",
       "2      2    ABT       Abbott             Health Care   \n",
       "3      3   ABBV       AbbVie             Health Care   \n",
       "4      4    ACN    Accenture  Information Technology   \n",
       "\n",
       "                         gics_sub              sp_date      cik  founded  \\\n",
       "0        Industrial Conglomerates  1976-08-09 00:00:00    66740     1902   \n",
       "1               Building Products  2017-07-26 00:00:00    91142     1916   \n",
       "2           Health Care Equipment  1964-03-31 00:00:00     1800     1888   \n",
       "3                 Pharmaceuticals  2012-12-31 00:00:00  1551152     2013   \n",
       "4  IT Consulting & Other Services  2011-07-06 00:00:00  1467373     1989   \n",
       "\n",
       "         hq_city hq_state_prov  \n",
       "0     Saint Paul     Minnesota  \n",
       "1      Milwaukee     Wisconsin  \n",
       "2  North Chicago      Illinois  \n",
       "3  North Chicago      Illinois  \n",
       "4         Dublin       Ireland  "
      ]
     },
     "execution_count": 19,
     "metadata": {},
     "output_type": "execute_result"
    }
   ],
   "source": [
    "pd.read_sql('SELECT * FROM sp500 LIMIT 5',conn)"
   ]
  },
  {
   "cell_type": "markdown",
   "id": "386b180b-4ee8-42db-9a90-719f208f5766",
   "metadata": {},
   "source": [
    "### Stock Value"
   ]
  },
  {
   "cell_type": "code",
   "execution_count": 56,
   "id": "9bc65a7b-ea55-4dad-b9d3-337c2f3625f1",
   "metadata": {},
   "outputs": [
    {
     "data": {
      "text/plain": [
       "493"
      ]
     },
     "execution_count": 56,
     "metadata": {},
     "output_type": "execute_result"
    }
   ],
   "source": [
    "stockr_df.to_sql(\"stock_value\", conn, if_exists=\"replace\")"
   ]
  },
  {
   "cell_type": "code",
   "execution_count": 20,
   "id": "52cf7444-c8a3-4cb6-bb06-afdb3db64af5",
   "metadata": {},
   "outputs": [
    {
     "data": {
      "text/html": [
       "<div>\n",
       "<style scoped>\n",
       "    .dataframe tbody tr th:only-of-type {\n",
       "        vertical-align: middle;\n",
       "    }\n",
       "\n",
       "    .dataframe tbody tr th {\n",
       "        vertical-align: top;\n",
       "    }\n",
       "\n",
       "    .dataframe thead th {\n",
       "        text-align: right;\n",
       "    }\n",
       "</style>\n",
       "<table border=\"1\" class=\"dataframe\">\n",
       "  <thead>\n",
       "    <tr style=\"text-align: right;\">\n",
       "      <th></th>\n",
       "      <th>index</th>\n",
       "      <th>symbol</th>\n",
       "      <th>open</th>\n",
       "      <th>high</th>\n",
       "      <th>low</th>\n",
       "      <th>close</th>\n",
       "      <th>volume</th>\n",
       "      <th>exchange</th>\n",
       "      <th>date</th>\n",
       "      <th>diff</th>\n",
       "    </tr>\n",
       "  </thead>\n",
       "  <tbody>\n",
       "    <tr>\n",
       "      <th>0</th>\n",
       "      <td>0</td>\n",
       "      <td>MMM</td>\n",
       "      <td>177.53</td>\n",
       "      <td>178.35</td>\n",
       "      <td>176.5100</td>\n",
       "      <td>177.63</td>\n",
       "      <td>1414600.0</td>\n",
       "      <td>XNYS</td>\n",
       "      <td>2021-12-31</td>\n",
       "      <td>0.10</td>\n",
       "    </tr>\n",
       "    <tr>\n",
       "      <th>1</th>\n",
       "      <td>1</td>\n",
       "      <td>AOS</td>\n",
       "      <td>85.13</td>\n",
       "      <td>86.25</td>\n",
       "      <td>85.1300</td>\n",
       "      <td>85.85</td>\n",
       "      <td>966600.0</td>\n",
       "      <td>XNYS</td>\n",
       "      <td>2021-12-31</td>\n",
       "      <td>0.72</td>\n",
       "    </tr>\n",
       "    <tr>\n",
       "      <th>2</th>\n",
       "      <td>2</td>\n",
       "      <td>ABT</td>\n",
       "      <td>141.00</td>\n",
       "      <td>141.77</td>\n",
       "      <td>140.7200</td>\n",
       "      <td>140.74</td>\n",
       "      <td>3271000.0</td>\n",
       "      <td>XNYS</td>\n",
       "      <td>2021-12-31</td>\n",
       "      <td>-0.26</td>\n",
       "    </tr>\n",
       "    <tr>\n",
       "      <th>3</th>\n",
       "      <td>3</td>\n",
       "      <td>ABBV</td>\n",
       "      <td>136.04</td>\n",
       "      <td>136.21</td>\n",
       "      <td>135.3000</td>\n",
       "      <td>135.40</td>\n",
       "      <td>3962700.0</td>\n",
       "      <td>XNYS</td>\n",
       "      <td>2021-12-31</td>\n",
       "      <td>-0.64</td>\n",
       "    </tr>\n",
       "    <tr>\n",
       "      <th>4</th>\n",
       "      <td>4</td>\n",
       "      <td>ACN</td>\n",
       "      <td>412.70</td>\n",
       "      <td>416.95</td>\n",
       "      <td>412.1096</td>\n",
       "      <td>414.55</td>\n",
       "      <td>1163448.0</td>\n",
       "      <td>XNYS</td>\n",
       "      <td>2021-12-31</td>\n",
       "      <td>1.85</td>\n",
       "    </tr>\n",
       "  </tbody>\n",
       "</table>\n",
       "</div>"
      ],
      "text/plain": [
       "   index symbol    open    high       low   close     volume exchange  \\\n",
       "0      0    MMM  177.53  178.35  176.5100  177.63  1414600.0     XNYS   \n",
       "1      1    AOS   85.13   86.25   85.1300   85.85   966600.0     XNYS   \n",
       "2      2    ABT  141.00  141.77  140.7200  140.74  3271000.0     XNYS   \n",
       "3      3   ABBV  136.04  136.21  135.3000  135.40  3962700.0     XNYS   \n",
       "4      4    ACN  412.70  416.95  412.1096  414.55  1163448.0     XNYS   \n",
       "\n",
       "         date  diff  \n",
       "0  2021-12-31  0.10  \n",
       "1  2021-12-31  0.72  \n",
       "2  2021-12-31 -0.26  \n",
       "3  2021-12-31 -0.64  \n",
       "4  2021-12-31  1.85  "
      ]
     },
     "execution_count": 20,
     "metadata": {},
     "output_type": "execute_result"
    }
   ],
   "source": [
    "pd.read_sql('SELECT * FROM stock_value LIMIT 5',conn)"
   ]
  },
  {
   "cell_type": "markdown",
   "id": "12e2bd28-5749-4712-abc3-c3c43e9de59f",
   "metadata": {},
   "source": [
    "### Merged Dataset"
   ]
  },
  {
   "cell_type": "code",
   "execution_count": 85,
   "id": "2a8efd0a-2fb7-40be-89d9-49148a2a4c08",
   "metadata": {},
   "outputs": [
    {
     "data": {
      "text/plain": [
       "<sqlite3.Cursor at 0x27e7f80dd50>"
      ]
     },
     "execution_count": 85,
     "metadata": {},
     "output_type": "execute_result"
    }
   ],
   "source": [
    "# Create SQL Table with all 3 datasets joined\n",
    "# Organized table in format that made sense\n",
    "c.execute(\"\"\"CREATE TABLE sp_merged AS SELECT sp500.symbol, sp500.security, sp500.gics_sec, sp500.gics_sub, sp500.sp_date, \n",
    "             sp500.cik, sp500.founded, sp500.hq_city, sp500.hq_state_prov, fortune1000.rank, fortune1000.rev,\n",
    "             fortune1000.rev_change, fortune1000.profit, fortune1000.profit_change, fortune1000.assets, fortune1000.market,\n",
    "             fortune1000.rank_change_1000, fortune1000.emp, fortune1000.rank_change_500, fortune1000.rank_measure,\n",
    "             stock_value.open, stock_value.high, stock_value.low, stock_value.close, stock_value.diff, stock_value.volume, \n",
    "             stock_value.exchange, stock_value.date AS 'stock_date'\n",
    "             FROM fortune1000\n",
    "             RIGHT JOIN sp500 ON fortune1000.name = sp500.security\n",
    "             LEFT JOIN stock_value ON sp500.symbol = stock_value.symbol\"\"\")"
   ]
  },
  {
   "cell_type": "code",
   "execution_count": 86,
   "id": "3ad5bb0a-35fb-418b-ad3e-2598aedd74f3",
   "metadata": {},
   "outputs": [
    {
     "data": {
      "text/html": [
       "<div>\n",
       "<style scoped>\n",
       "    .dataframe tbody tr th:only-of-type {\n",
       "        vertical-align: middle;\n",
       "    }\n",
       "\n",
       "    .dataframe tbody tr th {\n",
       "        vertical-align: top;\n",
       "    }\n",
       "\n",
       "    .dataframe thead th {\n",
       "        text-align: right;\n",
       "    }\n",
       "</style>\n",
       "<table border=\"1\" class=\"dataframe\">\n",
       "  <thead>\n",
       "    <tr style=\"text-align: right;\">\n",
       "      <th></th>\n",
       "      <th>symbol</th>\n",
       "      <th>security</th>\n",
       "      <th>gics_sec</th>\n",
       "      <th>gics_sub</th>\n",
       "      <th>sp_date</th>\n",
       "      <th>cik</th>\n",
       "      <th>founded</th>\n",
       "      <th>hq_city</th>\n",
       "      <th>hq_state_prov</th>\n",
       "      <th>rank</th>\n",
       "      <th>...</th>\n",
       "      <th>rank_change_500</th>\n",
       "      <th>rank_measure</th>\n",
       "      <th>open</th>\n",
       "      <th>high</th>\n",
       "      <th>low</th>\n",
       "      <th>close</th>\n",
       "      <th>diff</th>\n",
       "      <th>volume</th>\n",
       "      <th>exchange</th>\n",
       "      <th>stock_date</th>\n",
       "    </tr>\n",
       "  </thead>\n",
       "  <tbody>\n",
       "    <tr>\n",
       "      <th>0</th>\n",
       "      <td>WMT</td>\n",
       "      <td>Walmart</td>\n",
       "      <td>Consumer Staples</td>\n",
       "      <td>Hypermarkets &amp; Super Centers</td>\n",
       "      <td>1982-08-31 00:00:00</td>\n",
       "      <td>104169</td>\n",
       "      <td>1962</td>\n",
       "      <td>Bentonville</td>\n",
       "      <td>Arkansas</td>\n",
       "      <td>1</td>\n",
       "      <td>...</td>\n",
       "      <td>0</td>\n",
       "      <td>20</td>\n",
       "      <td>143.2000</td>\n",
       "      <td>145.04</td>\n",
       "      <td>142.9200</td>\n",
       "      <td>144.6900</td>\n",
       "      <td>1.49</td>\n",
       "      <td>5982000.0</td>\n",
       "      <td>XNYS</td>\n",
       "      <td>2021-12-31</td>\n",
       "    </tr>\n",
       "    <tr>\n",
       "      <th>1</th>\n",
       "      <td>AMZN</td>\n",
       "      <td>Amazon</td>\n",
       "      <td>Consumer Discretionary</td>\n",
       "      <td>Internet &amp; Direct Marketing Retail</td>\n",
       "      <td>2005-11-18 00:00:00</td>\n",
       "      <td>1018724</td>\n",
       "      <td>1994</td>\n",
       "      <td>Seattle</td>\n",
       "      <td>Washington</td>\n",
       "      <td>2</td>\n",
       "      <td>...</td>\n",
       "      <td>0</td>\n",
       "      <td>11</td>\n",
       "      <td>3379.1201</td>\n",
       "      <td>3387.00</td>\n",
       "      <td>3331.1699</td>\n",
       "      <td>3334.3401</td>\n",
       "      <td>-44.78</td>\n",
       "      <td>2387300.0</td>\n",
       "      <td>XNAS</td>\n",
       "      <td>2021-12-31</td>\n",
       "    </tr>\n",
       "    <tr>\n",
       "      <th>2</th>\n",
       "      <td>CVS</td>\n",
       "      <td>CVS Health</td>\n",
       "      <td>Health Care</td>\n",
       "      <td>Health Care Services</td>\n",
       "      <td>1957-03-04 00:00:00</td>\n",
       "      <td>64803</td>\n",
       "      <td>1996</td>\n",
       "      <td>Woonsocket</td>\n",
       "      <td>Rhode Island</td>\n",
       "      <td>4</td>\n",
       "      <td>...</td>\n",
       "      <td>1</td>\n",
       "      <td>57</td>\n",
       "      <td>103.4800</td>\n",
       "      <td>103.76</td>\n",
       "      <td>103.1300</td>\n",
       "      <td>103.1600</td>\n",
       "      <td>-0.32</td>\n",
       "      <td>3251200.0</td>\n",
       "      <td>XNYS</td>\n",
       "      <td>2021-12-31</td>\n",
       "    </tr>\n",
       "    <tr>\n",
       "      <th>3</th>\n",
       "      <td>UNH</td>\n",
       "      <td>UnitedHealth Group</td>\n",
       "      <td>Health Care</td>\n",
       "      <td>Managed Health Care</td>\n",
       "      <td>1994-07-01 00:00:00</td>\n",
       "      <td>731766</td>\n",
       "      <td>1977</td>\n",
       "      <td>Minnetonka</td>\n",
       "      <td>Minnesota</td>\n",
       "      <td>5</td>\n",
       "      <td>...</td>\n",
       "      <td>2</td>\n",
       "      <td>25</td>\n",
       "      <td>504.1400</td>\n",
       "      <td>506.87</td>\n",
       "      <td>502.0400</td>\n",
       "      <td>502.1400</td>\n",
       "      <td>-2.00</td>\n",
       "      <td>1695000.0</td>\n",
       "      <td>XNYS</td>\n",
       "      <td>2021-12-31</td>\n",
       "    </tr>\n",
       "    <tr>\n",
       "      <th>4</th>\n",
       "      <td>BRK.B</td>\n",
       "      <td>Berkshire Hathaway</td>\n",
       "      <td>Financials</td>\n",
       "      <td>Multi-Sector Holdings</td>\n",
       "      <td>2010-02-16 00:00:00</td>\n",
       "      <td>1067983</td>\n",
       "      <td>1839</td>\n",
       "      <td>Omaha</td>\n",
       "      <td>Nebraska</td>\n",
       "      <td>6</td>\n",
       "      <td>...</td>\n",
       "      <td>0</td>\n",
       "      <td>0</td>\n",
       "      <td>NaN</td>\n",
       "      <td>NaN</td>\n",
       "      <td>NaN</td>\n",
       "      <td>NaN</td>\n",
       "      <td>NaN</td>\n",
       "      <td>NaN</td>\n",
       "      <td>None</td>\n",
       "      <td>None</td>\n",
       "    </tr>\n",
       "  </tbody>\n",
       "</table>\n",
       "<p>5 rows × 28 columns</p>\n",
       "</div>"
      ],
      "text/plain": [
       "  symbol            security                gics_sec  \\\n",
       "0    WMT             Walmart        Consumer Staples   \n",
       "1   AMZN              Amazon  Consumer Discretionary   \n",
       "2    CVS          CVS Health             Health Care   \n",
       "3    UNH  UnitedHealth Group             Health Care   \n",
       "4  BRK.B  Berkshire Hathaway              Financials   \n",
       "\n",
       "                             gics_sub              sp_date      cik  founded  \\\n",
       "0        Hypermarkets & Super Centers  1982-08-31 00:00:00   104169     1962   \n",
       "1  Internet & Direct Marketing Retail  2005-11-18 00:00:00  1018724     1994   \n",
       "2                Health Care Services  1957-03-04 00:00:00    64803     1996   \n",
       "3                 Managed Health Care  1994-07-01 00:00:00   731766     1977   \n",
       "4               Multi-Sector Holdings  2010-02-16 00:00:00  1067983     1839   \n",
       "\n",
       "       hq_city  hq_state_prov  rank  ...  rank_change_500  rank_measure  \\\n",
       "0  Bentonville       Arkansas     1  ...                0            20   \n",
       "1      Seattle     Washington     2  ...                0            11   \n",
       "2   Woonsocket   Rhode Island     4  ...                1            57   \n",
       "3   Minnetonka      Minnesota     5  ...                2            25   \n",
       "4        Omaha       Nebraska     6  ...                0             0   \n",
       "\n",
       "        open     high        low      close   diff     volume  exchange  \\\n",
       "0   143.2000   145.04   142.9200   144.6900   1.49  5982000.0      XNYS   \n",
       "1  3379.1201  3387.00  3331.1699  3334.3401 -44.78  2387300.0      XNAS   \n",
       "2   103.4800   103.76   103.1300   103.1600  -0.32  3251200.0      XNYS   \n",
       "3   504.1400   506.87   502.0400   502.1400  -2.00  1695000.0      XNYS   \n",
       "4        NaN      NaN        NaN        NaN    NaN        NaN      None   \n",
       "\n",
       "   stock_date  \n",
       "0  2021-12-31  \n",
       "1  2021-12-31  \n",
       "2  2021-12-31  \n",
       "3  2021-12-31  \n",
       "4        None  \n",
       "\n",
       "[5 rows x 28 columns]"
      ]
     },
     "execution_count": 86,
     "metadata": {},
     "output_type": "execute_result"
    }
   ],
   "source": [
    "# Validate table\n",
    "pd.read_sql('SELECT * FROM sp_merged LIMIT 5',conn)"
   ]
  },
  {
   "cell_type": "code",
   "execution_count": 5,
   "id": "d8e6af71-262f-4011-8690-a9e9ea1a0b05",
   "metadata": {},
   "outputs": [],
   "source": [
    "# Import into Python Dataframe\n",
    "sp500_df = pd.read_sql('SELECT * FROM sp_merged',conn)"
   ]
  },
  {
   "cell_type": "markdown",
   "id": "57d4f03a-206f-4f4a-ae92-e0d9c4e4c847",
   "metadata": {},
   "source": [
    "## Visualizations"
   ]
  },
  {
   "cell_type": "code",
   "execution_count": 48,
   "id": "6fe3f045-cc2a-499c-95c0-88607a7c48e2",
   "metadata": {},
   "outputs": [
    {
     "data": {
      "image/png": "[encoded data removed]",
      "text/plain": [
       "<Figure size 640x480 with 1 Axes>"
      ]
     },
     "metadata": {},
     "output_type": "display_data"
    }
   ],
   "source": [
    "# Sort by GICS Sector\n",
    "sp500_gs = sp500_df.sort_values(\"gics_sec\")\n",
    "# Boxplot of revenue change for eac GICS Sector\n",
    "rc = sns.boxplot(data=sp500_gs, x=\"rev_change\", y=\"gics_sec\",  fliersize=2)\n",
    "rc.set(title=\"2021 Revenue Change by GICS Sector\", xlabel='Revenue Change', ylabel='GICS Sector')\n",
    "plt.show()"
   ]
  },
  {
   "cell_type": "code",
   "execution_count": 9,
   "id": "5c29b63a-513d-4e05-98c4-7ec6efdd72d4",
   "metadata": {},
   "outputs": [],
   "source": [
    "# Create Tricennial for Founded Date\n",
    "sp500_df['triennial'] = sp500_df['founded'] - sp500_df['founded'] % 30\n",
    "# Group by decade and get mean with reset index\n",
    "sp500_triennial = sp500_df.groupby(sp500_df.triennial).mean().reset_index()\n",
    "# Convert decade to int\n",
    "sp500_triennial['triennial'] = sp500_triennial['triennial'].dropna().astype(int)"
   ]
  },
  {
   "cell_type": "code",
   "execution_count": 10,
   "id": "c2b54025-3086-4451-a844-b491dda7347d",
   "metadata": {},
   "outputs": [
    {
     "data": {
      "image/png": "[encoded data removed]",
      "text/plain": [
       "<Figure size 640x480 with 1 Axes>"
      ]
     },
     "metadata": {},
     "output_type": "display_data"
    }
   ],
   "source": [
    "# Avg Profit Change by S&P 500 Company Year Founded\n",
    "dp = sns.barplot(data=sp500_triennial, x=\"triennial\", y=\"profit_change\", color=\"lightsteelblue\")\n",
    "dp.set(title=\"Avg Profit Change by Year Founded\", xlabel='Year Founded by Triennial', ylabel='Average Profit Change')\n",
    "plt.show()"
   ]
  },
  {
   "cell_type": "code",
   "execution_count": 45,
   "id": "75f4940c-93b1-4815-9a8d-3d1b89b344ac",
   "metadata": {},
   "outputs": [
    {
     "data": {
      "image/png": "[encoded data removed]",
      "text/plain": [
       "<Figure size 640x480 with 1 Axes>"
      ]
     },
     "metadata": {},
     "output_type": "display_data"
    }
   ],
   "source": [
    "# Scatterplot of Assets ($) vs Market Value ($ Millions)\n",
    "ae = sns.scatterplot(x ='market', y='assets', data=sp500_df, linewidth=0, alpha=0.25)\n",
    "ae.set(title=\"S&P 500 Assets vs Market Value\", xlabel='Market Value ($ Millions)', ylabel='Assets ($)')\n",
    "plt.show()"
   ]
  },
  {
   "cell_type": "code",
   "execution_count": 28,
   "id": "d0993f79-4d74-47c6-bbee-547be4fb4b4e",
   "metadata": {},
   "outputs": [
    {
     "data": {
      "image/png": "[encoded data removed]",
      "text/plain": [
       "<Figure size 500x500 with 1 Axes>"
      ]
     },
     "metadata": {},
     "output_type": "display_data"
    }
   ],
   "source": [
    "# Group by GICS Sub-Industry\n",
    "sp500_sub = sp500_df.groupby(sp500_df.gics_sub).mean().reset_index()\n",
    "# Plot Stock Close Value at the end of 2021\n",
    "close = sns.displot(data=sp500_sub, x=\"close\", kde=True)\n",
    "close.set(title=\"GICS Sub-Industry Stock Close Value\", xlabel='Stock Close Value')\n",
    "plt.show()"
   ]
  },
  {
   "cell_type": "code",
   "execution_count": 46,
   "id": "b30a99e5-2cdf-454b-aea7-6487a0ba92f3",
   "metadata": {},
   "outputs": [
    {
     "data": {
      "image/png": "[encoded data removed]",
      "text/plain": [
       "<Figure size 640x480 with 1 Axes>"
      ]
     },
     "metadata": {},
     "output_type": "display_data"
    }
   ],
   "source": [
    "# Show scatterplot of employee count by year founded\n",
    "emp = sns.scatterplot(x ='founded', y='emp', data=sp500_df, linewidth=0, alpha=0.25)\n",
    "emp.set(title=\"Employee Count by Year Founded\", xlabel='Year Founded', ylabel='Employees')\n",
    "plt.show()"
   ]
  }
 ],
 "metadata": {
  "kernelspec": {
   "display_name": "Python 3 (ipykernel)",
   "language": "python",
   "name": "python3"
  },
  "language_info": {
   "codemirror_mode": {
    "name": "ipython",
    "version": 3
   },
   "file_extension": ".py",
   "mimetype": "text/x-python",
   "name": "python",
   "nbconvert_exporter": "python",
   "pygments_lexer": "ipython3",
   "version": "3.9.13"
  }
 },
 "nbformat": 4,
 "nbformat_minor": 5
}
